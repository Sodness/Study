{
 "cells": [
  {
   "cell_type": "code",
   "execution_count": 8,
   "metadata": {},
   "outputs": [
    {
     "name": "stdout",
     "output_type": "stream",
     "text": [
      "         Date     Sales      PV      UV  Events\n",
      "0  2022-01-01  22711525  397349  4421.0       1\n",
      "1  2022-01-02     36779    3969  2289.0       0\n",
      "2  2022-01-03  13943875  373890     NaN       1\n",
      "91639050\n"
     ]
    },
    {
     "name": "stderr",
     "output_type": "stream",
     "text": [
      "C:\\Users\\user\\AppData\\Local\\Temp\\ipykernel_22904\\1515823756.py:17: FutureWarning: Series.dt.weekofyear and Series.dt.week have been deprecated. Please use Series.dt.isocalendar().week instead.\n",
      "  df['week'] = df['Date'].dt.week\n"
     ]
    }
   ],
   "source": [
    "# T1-22. Time-Series4 (Weekly data) / #주간 #합계\n",
    "# 주어진 데이터(basic2.csv)에서 주 단위 Sales의 합계를 구하고, \n",
    "# 가장 큰 값을 가진 주와 작은 값을 가진 주의 차이를 구하시오(절대값)\n",
    "# 풀이\n",
    "\n",
    "import pandas as pd\n",
    "\n",
    "df = pd.read_csv('./data/basic2.csv')\n",
    "print(df.head(3))\n",
    "# print(df.info())\n",
    "# print(df.isnull().sum())\n",
    "# print(df.shape)\n",
    "\n",
    "df['Date'] = pd.to_datetime(df['Date'])\n",
    "# print(df.info())\n",
    "\n",
    "df['week'] = df['Date'].dt.week\n",
    "# df['weekofyear'] = df['Date'].dt.weekofyear\n",
    "df['yyyy'] = df['Date'].dt.year\n",
    "# print(dir(df['Date'].dt))\n",
    "\n",
    "# print(df.head())\n",
    "# print(df.tail())\n",
    "\n",
    "df_res = df.groupby(['week','yyyy']).sum()['Sales']\n",
    "\n",
    "max_week = df_res.max()\n",
    "min_week = df_res.min()\n",
    "\n",
    "answer = abs(max_week - min_week)\n",
    "print(answer)"
   ]
  },
  {
   "cell_type": "code",
   "execution_count": 16,
   "metadata": {},
   "outputs": [
    {
     "name": "stdout",
     "output_type": "stream",
     "text": [
      "               Sales      PV      UV  Events\n",
      "Date                                        \n",
      "2022-01-01  22711525  397349  4421.0       1\n",
      "2022-01-02     36779    3969  2289.0       0\n",
      "2022-01-03  13943875  373890     NaN       1\n",
      "2022-01-04   8088593  142054  2157.0       0\n",
      "2022-01-05   2395374  190684     NaN       0\n",
      "               Sales       PV       UV  Events\n",
      "Date                                          \n",
      "2022-01-02  22748304   401318   6710.0       1\n",
      "2022-01-09  33373822  1148464  15189.0       2\n",
      "2022-01-16  20754519   283773   9344.0       0\n",
      "2022-01-23  21880751   538633   9841.0       1\n",
      "2022-01-30  28878452   560814   7808.0       1\n",
      "91639050\n"
     ]
    }
   ],
   "source": [
    "# 해답\n",
    "import pandas as pd\n",
    "\n",
    "df = pd.read_csv('./data/basic2.csv', index_col=0)\n",
    "print(df.head())\n",
    "\n",
    "df.index = pd.to_datetime(df.index)\n",
    "\n",
    "# 이거 이제 지원 안하나?\n",
    "# datetime으로 바꿔주면 되네\n",
    "df_w = df.resample('W').sum()\n",
    "print(df_w.head())\n",
    "\n",
    "ma = df_w['Sales'].max()\n",
    "mi = df_w['Sales'].min()\n",
    "\n",
    "answer = ma - mi\n",
    "print(answer)"
   ]
  },
  {
   "cell_type": "code",
   "execution_count": 14,
   "metadata": {},
   "outputs": [
    {
     "data": {
      "text/plain": [
       "(99165648, 7526598)"
      ]
     },
     "execution_count": 14,
     "metadata": {},
     "output_type": "execute_result"
    }
   ],
   "source": [
    "max_week, min_week"
   ]
  },
  {
   "cell_type": "code",
   "execution_count": 15,
   "metadata": {},
   "outputs": [
    {
     "data": {
      "text/plain": [
       "(99165648, 7526598)"
      ]
     },
     "execution_count": 15,
     "metadata": {},
     "output_type": "execute_result"
    }
   ],
   "source": [
    "ma, mi"
   ]
  },
  {
   "cell_type": "markdown",
   "metadata": {},
   "source": [
    "## --------------------------------"
   ]
  },
  {
   "cell_type": "code",
   "execution_count": 42,
   "metadata": {},
   "outputs": [
    {
     "name": "stdout",
     "output_type": "stream",
     "text": [
      "     id   age city    f1  f2   f3    f4         f5\n",
      "0  id01   2.0   서울   NaN   0  NaN  ENFJ  91.297791\n",
      "1  id02   9.0   서울  70.0   1  NaN  ENFJ  60.339826\n",
      "2  id03  27.0   서울  61.0   1  NaN  ISTJ  17.252986\n",
      "3  id04  75.0   서울   NaN   2  NaN  INFP  52.667078\n",
      "4  id05  24.0   서울  85.0   2  NaN  ISFJ  29.269869\n",
      "     id   age city     f1  f2   f3    f4         f5\n",
      "0  id01   2.0   서울    NaN   0  NaN  ENFJ  91.297791\n",
      "1  id02   9.0   서울   70.0   1  NaN  ENFJ  60.339826\n",
      "2  id03  27.0   서울   61.0   1  NaN  ISTJ  17.252986\n",
      "3  id04  75.0   서울    NaN   2  NaN  INFP  52.667078\n",
      "4  id05  24.0   서울   85.0   2  NaN  ISFJ  29.269869\n",
      "5  id06  22.0   서울   57.0   0  vip  INTP  20.129444\n",
      "6  id07  36.3   서울   60.0   1  NaN  ISFJ   9.796378\n",
      "7  id08  38.0   서울  101.0   1  NaN  INFJ  83.685380\n",
      "8  id09   3.3   서울   35.0   2  NaN  ESFJ  17.252986\n",
      "9  id10  95.0   서울   74.0   1  NaN  ISFP  98.429899\n",
      "74.0\n",
      "0.0\n"
     ]
    }
   ],
   "source": [
    "# T1-23. Drop Duplicates / #중복제거 #결측치 #10번째값으로채움\n",
    "# f1의 결측치를 채운 후 age 컬럼의 중복 제거 전과 후의 'f1' 중앙값 차이를 구하시오\n",
    "# - 결측치는 f1의 데이터 중 내림차순 정렬 후 10번째 값으로 채움\n",
    "# - 중복 데이터 발생시 뒤에 나오는 데이터를 삭제함\n",
    "# - 최종 결과값은 절대값으로 출력\n",
    "# 풀이\n",
    "\n",
    "import pandas as pd\n",
    "\n",
    "df = pd.read_csv('./data/basic1.csv')\n",
    "print(df.head())\n",
    "# print(df.info())\n",
    "# print(df.isnull().sum())\n",
    "# print(df.shape)\n",
    "\n",
    "df['f1'] = df['f1'].sort_values(ascending=False)\n",
    "print(df.head(10))\n",
    "print(df['f1'][9])\n",
    "\n",
    "df['f1'] = df['f1'].fillna(df['f1'][9])\n",
    "# print(df.isnull().sum())\n",
    "# print(df.head())\n",
    "\n",
    "median1 = df['age'].median()\n",
    "\n",
    "# df = df.dropna?()\n",
    "median2 = df['age'].median()\n",
    "\n",
    "answer = abs(median1 - median2)\n",
    "print(answer)"
   ]
  },
  {
   "cell_type": "code",
   "execution_count": 45,
   "metadata": {},
   "outputs": [
    {
     "name": "stdout",
     "output_type": "stream",
     "text": [
      "88.0\n",
      "0.5\n"
     ]
    }
   ],
   "source": [
    "# 해답\n",
    "\n",
    "import pandas as pd\n",
    "\n",
    "df = pd.read_csv('./data/basic1.csv')\n",
    "\n",
    "top10 = df['f1'].sort_values(ascending=False).iloc[9]\n",
    "df['f1'] = df['f1'].fillna(top10)\n",
    "print(top10)\n",
    "\n",
    "result1 = df['f1'].median()\n",
    "\n",
    "df = df.drop_duplicates(subset=['age'])\n",
    "result2 = df['f1'].median()\n",
    "\n",
    "answer = abs(result1 - result2)\n",
    "print(answer)"
   ]
  },
  {
   "cell_type": "markdown",
   "metadata": {},
   "source": [
    "![](2022-11-07-12-46-09.png)"
   ]
  },
  {
   "cell_type": "code",
   "execution_count": 53,
   "metadata": {},
   "outputs": [
    {
     "name": "stdout",
     "output_type": "stream",
     "text": [
      "     id   age city    f1  f2   f3    f4         f5\n",
      "0  id01   2.0   서울   NaN   0  NaN  ENFJ  91.297791\n",
      "1  id02   9.0   서울  70.0   1  NaN  ENFJ  60.339826\n",
      "2  id03  27.0   서울  61.0   1  NaN  ISTJ  17.252986\n",
      "3  id04  75.0   서울   NaN   2  NaN  INFP  52.667078\n",
      "4  id05  24.0   서울  85.0   2  NaN  ISFJ  29.269869\n",
      "88.0\n",
      "0.5\n"
     ]
    }
   ],
   "source": [
    "# 풀이 수정\n",
    "\n",
    "import pandas as pd\n",
    "\n",
    "df = pd.read_csv('./data/basic1.csv')\n",
    "print(df.head())\n",
    "# print(df.info())\n",
    "# print(df.isnull().sum())\n",
    "# print(df.shape)\n",
    "\n",
    "top10 = df['f1'].sort_values(ascending=False).iloc[9]\n",
    "# print(df.head(10))\n",
    "print(top10)\n",
    "\n",
    "df['f1'] = df['f1'].fillna(top10)\n",
    "# print(df.isnull().sum())\n",
    "# print(df.head())\n",
    "\n",
    "median1 = df['f1'].median()\n",
    "\n",
    "df = df.drop_duplicates(subset=['age'], keep='first')\n",
    "median2 = df['f1'].median()\n",
    "\n",
    "answer = abs(median1 - median2)\n",
    "print(answer)"
   ]
  },
  {
   "cell_type": "code",
   "execution_count": 50,
   "metadata": {},
   "outputs": [
    {
     "data": {
      "text/plain": [
       "(77.5, 77.0)"
      ]
     },
     "execution_count": 50,
     "metadata": {},
     "output_type": "execute_result"
    }
   ],
   "source": [
    "result1, result2"
   ]
  },
  {
   "cell_type": "code",
   "execution_count": 51,
   "metadata": {},
   "outputs": [
    {
     "data": {
      "text/plain": [
       "(77.5, 75.0)"
      ]
     },
     "execution_count": 51,
     "metadata": {},
     "output_type": "execute_result"
    }
   ],
   "source": [
    "median1, median2"
   ]
  },
  {
   "cell_type": "code",
   "execution_count": null,
   "metadata": {},
   "outputs": [],
   "source": []
  }
 ],
 "metadata": {
  "kernelspec": {
   "display_name": "Python 3.10.4 ('han')",
   "language": "python",
   "name": "python3"
  },
  "language_info": {
   "codemirror_mode": {
    "name": "ipython",
    "version": 3
   },
   "file_extension": ".py",
   "mimetype": "text/x-python",
   "name": "python",
   "nbconvert_exporter": "python",
   "pygments_lexer": "ipython3",
   "version": "3.10.4"
  },
  "orig_nbformat": 4,
  "vscode": {
   "interpreter": {
    "hash": "9ffd841040af6bedd50cabf1584399d13f777232c008d7c4ad470663779a547a"
   }
  }
 },
 "nbformat": 4,
 "nbformat_minor": 2
}
