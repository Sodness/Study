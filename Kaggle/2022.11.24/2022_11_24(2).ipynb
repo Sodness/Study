{
 "cells": [
  {
   "cell_type": "code",
   "execution_count": 10,
   "metadata": {},
   "outputs": [
    {
     "name": "stdout",
     "output_type": "stream",
     "text": [
      "     id   age city    f1  f2   f3    f4         f5    r1    r2\n",
      "0  id01   2.0   서울   NaN   0  NaN  ENFJ  91.297791  INFP  ISFP\n",
      "1  id02   9.0   서울  70.0   1  NaN  ENFJ  60.339826  INFP  ISFP\n",
      "2  id33  47.0   부산  94.0   0  NaN  ENFJ  17.252986  INFP  ISFP\n",
      "3  id41  81.0   대구  55.0   0  NaN  ENFJ  37.113739  INFP  ISFP\n",
      "4  id45  97.0   대구  88.0   0  NaN  ENFJ  13.049921  INFP  ISFP\n",
      "16\n"
     ]
    }
   ],
   "source": [
    "# T1-20. Combining Data / 데이터 #병합 #결합 / 고객과 궁합이 맞는 타입 매칭\n",
    "# basic1 데이터와 basic3 데이터를 'f4'값을 기준으로 병합하고,\n",
    "# 병합한 데이터에서 r2결측치를 제거한다음, 앞에서 부터 20개 데이터를 선택하고 'f2'컬럼 합을 구하시오\n",
    "# 풀이\n",
    "\n",
    "import pandas as pd\n",
    "\n",
    "df1 = pd.read_csv('./data/basic1.csv')\n",
    "df2 = pd.read_csv('./data/basic3.csv')\n",
    "\n",
    "# print(df1.head(3))\n",
    "# print(df2.head(3))\n",
    "# print(df1.isnull().sum()) # f1(31), f3(95)\n",
    "# print(df1.shape) # (100, 8)\n",
    "# print(df2.isnull().sum()) # r2(4)\n",
    "# print(df2.shape) # (16, 3)\n",
    "\n",
    "df = pd.merge(df1, df2, on='f4')\n",
    "df = df[df['r2'].notnull()]\n",
    "# print(df.shape)\n",
    "print(df.head())\n",
    "\n",
    "answer = sum(df[:20]['f2'])\n",
    "print(answer)"
   ]
  },
  {
   "cell_type": "code",
   "execution_count": 9,
   "metadata": {},
   "outputs": [
    {
     "name": "stdout",
     "output_type": "stream",
     "text": [
      "15\n"
     ]
    }
   ],
   "source": [
    "# 해답\n",
    "\n",
    "import pandas as pd\n",
    "\n",
    "b1 = pd.read_csv('./data/basic1.csv')\n",
    "b3 = pd.read_csv('./data/basic3.csv')\n",
    "\n",
    "df = pd.merge(left = b1 , right = b3, how = \"left\", on = \"f4\")\n",
    "\n",
    "df = df.dropna(subset=['r2'])\n",
    "\n",
    "df = df.reset_index()\n",
    "\n",
    "print(df.iloc[:20]['f2'].sum())"
   ]
  },
  {
   "cell_type": "code",
   "execution_count": 16,
   "metadata": {},
   "outputs": [
    {
     "name": "stdout",
     "output_type": "stream",
     "text": [
      "(20, 10)\n",
      "(20, 10)\n",
      "15\n"
     ]
    }
   ],
   "source": [
    "import pandas as pd\n",
    "\n",
    "df1 = pd.read_csv('./data/basic1.csv')\n",
    "df2 = pd.read_csv('./data/basic3.csv')\n",
    "\n",
    "# print(df1.head(3))\n",
    "# print(df2.head(3))\n",
    "# print(df1.isnull().sum()) # f1(31), f3(95)\n",
    "# print(df1.shape) # (100, 8)\n",
    "# print(df2.isnull().sum()) # r2(4)\n",
    "# print(df2.shape) # (16, 3)\n",
    "\n",
    "df = pd.merge(df1, df2, on='f4', how='left')\n",
    "df = df[df['r2'].notnull()]\n",
    "# print(df.shape)\n",
    "print(df[:20].shape)\n",
    "print(df.iloc[:20].shape)\n",
    "\n",
    "answer = sum(df[:20]['f2'])\n",
    "print(answer)"
   ]
  },
  {
   "cell_type": "markdown",
   "metadata": {},
   "source": [
    "### ================================"
   ]
  },
  {
   "cell_type": "code",
   "execution_count": 24,
   "metadata": {},
   "outputs": [
    {
     "name": "stdout",
     "output_type": "stream",
     "text": [
      "165.0\n"
     ]
    }
   ],
   "source": [
    "# T1-21. Binning Data / #비닝 #구간나누기\n",
    "# basic1 데이터 중 'age'컬럼 이상치를 제거하고, \n",
    "# 동일한 개수로 나이 순으로 3그룹으로 나눈 뒤 각 그룹의 중앙값을 더하시오\n",
    "# (이상치는 음수(0포함), 소수점 값)\n",
    "# 풀이\n",
    "\n",
    "import pandas as pd\n",
    "\n",
    "df = pd.read_csv('./data/basic1.csv')\n",
    "# print(df.head(3))\n",
    "# print(df.isnull().sum()) # f1(31), f3(95)\n",
    "# print(df.shape) # (100, 8)\n",
    "\n",
    "# print(df[df['age'] <= 0])\n",
    "df = df[df['age'] > 0]\n",
    "# print(df.shape)\n",
    "\n",
    "df = df[(df['age'].astype('int') == df['age'])]\n",
    "df = df.sort_values('age', ascending=False)\n",
    "# print(len(df))\n",
    "\n",
    "group = int(len(df)/3)\n",
    "df1 = df.iloc[:group]\n",
    "df2 = df.iloc[group:group*2]\n",
    "df3 = df.iloc[group*2:]\n",
    "# print(df1.shape, df2.shape, df3.shape)\n",
    "\n",
    "answer = df1['age'].median() + df2['age'].median() + df3['age'].median()\n",
    "print(answer)"
   ]
  },
  {
   "cell_type": "code",
   "execution_count": 26,
   "metadata": {},
   "outputs": [
    {
     "name": "stdout",
     "output_type": "stream",
     "text": [
      "     id   age city    f1  f2   f3    f4         f5   range\n",
      "0  id01   2.0   서울   NaN   0  NaN  ENFJ  91.297791  group1\n",
      "1  id02   9.0   서울  70.0   1  NaN  ENFJ  60.339826  group1\n",
      "2  id03  27.0   서울  61.0   1  NaN  ISTJ  17.252986  group1\n",
      "3  id04  75.0   서울   NaN   2  NaN  INFP  52.667078  group3\n",
      "4  id05  24.0   서울  85.0   2  NaN  ISFJ  29.269869  group1\n",
      "165.0\n"
     ]
    }
   ],
   "source": [
    "# 해답\n",
    "\n",
    "import pandas as pd\n",
    "\n",
    "df = pd.read_csv('./data/basic1.csv')\n",
    "\n",
    "# print('전체 데이터:', df.shape)\n",
    "df = df[~(df['age'] <= 0)]\n",
    "# print('음수(0포함)값 제거 후 데이터 크기:', df.shape)\n",
    "\n",
    "df = df[(df['age'] == round(df['age'],0))]\n",
    "# print('소수점 제거 후 데이터 크기:', df.shape)\n",
    "\n",
    "df['range'] = pd.qcut(df['age'], q=3, labels=['group1','group2','group3'])\n",
    "print(df.head())\n",
    "\n",
    "g1_med = df[df['range'] == 'group1']['age'].median()\n",
    "g2_med = df[df['range'] == 'group2']['age'].median()\n",
    "g3_med = df[df['range'] == 'group3']['age'].median()\n",
    "\n",
    "print(g1_med + g2_med + g3_med)"
   ]
  },
  {
   "cell_type": "markdown",
   "metadata": {},
   "source": [
    "### ================================"
   ]
  },
  {
   "cell_type": "code",
   "execution_count": 45,
   "metadata": {},
   "outputs": [
    {
     "name": "stdout",
     "output_type": "stream",
     "text": [
      "91639050\n"
     ]
    },
    {
     "name": "stderr",
     "output_type": "stream",
     "text": [
      "C:\\Users\\hjk70\\AppData\\Local\\Temp\\ipykernel_6264\\1356168442.py:15: FutureWarning: Series.dt.weekofyear and Series.dt.week have been deprecated. Please use Series.dt.isocalendar().week instead.\n",
      "  df['week'] = df['Date'].dt.week\n"
     ]
    }
   ],
   "source": [
    "# T1-22. Time-Series4 (Weekly data) / #주간 #합계\n",
    "# 주어진 데이터(basic2.csv)에서 주 단위 Sales의 합계를 구하고, \n",
    "# 가장 큰 값을 가진 주와 작은 값을 가진 주의 차이를 구하시오(절대값)\n",
    "# 풀이\n",
    "\n",
    "import pandas as pd\n",
    "\n",
    "df = pd.read_csv('./data/basic2.csv')\n",
    "# print(df.head(3))\n",
    "# print(df.isnull().sum()) # UV(46)\n",
    "# print(df.shape) # (730, 5)\n",
    "\n",
    "df['Date'] = pd.to_datetime(df['Date'])\n",
    "# print(dir(df['Date'].dt))\n",
    "df['week'] = df['Date'].dt.week\n",
    "df['year'] = df['Date'].dt.year\n",
    "# print(df.head())\n",
    "# print(df['year'].unique())\n",
    "\n",
    "df = df.groupby(['year', 'week']).sum()\n",
    "# print(df.head())\n",
    "\n",
    "max = df['Sales'].max()\n",
    "min = df['Sales'].min()\n",
    "answer = abs(max - min)\n",
    "print(answer)"
   ]
  },
  {
   "cell_type": "code",
   "execution_count": 60,
   "metadata": {},
   "outputs": [
    {
     "name": "stdout",
     "output_type": "stream",
     "text": [
      "91639050\n"
     ]
    }
   ],
   "source": [
    "# 해답\n",
    "\n",
    "import pandas as pd\n",
    "\n",
    "df = pd.read_csv('./data/basic2.csv')\n",
    "df['Date'] = pd.to_datetime(df['Date'])\n",
    "# print(df.head())\n",
    "df = df.set_index(df['Date'], drop=True)\n",
    "df = df.drop(columns=['Date'])\n",
    "# print(help(df.set_index))\n",
    "\n",
    "df_w = df.resample('W').sum()\n",
    "# print(df_w)\n",
    "\n",
    "ma = df_w['Sales'].max()\n",
    "mi = df_w['Sales'].min()\n",
    "print(ma - mi)"
   ]
  },
  {
   "cell_type": "code",
   "execution_count": null,
   "metadata": {},
   "outputs": [],
   "source": []
  }
 ],
 "metadata": {
  "kernelspec": {
   "display_name": "Python 3.9.2 64-bit",
   "language": "python",
   "name": "python3"
  },
  "language_info": {
   "codemirror_mode": {
    "name": "ipython",
    "version": 3
   },
   "file_extension": ".py",
   "mimetype": "text/x-python",
   "name": "python",
   "nbconvert_exporter": "python",
   "pygments_lexer": "ipython3",
   "version": "3.9.2"
  },
  "orig_nbformat": 4,
  "vscode": {
   "interpreter": {
    "hash": "a20a30615b99b5207ca5d4204bb37f9cd7ad98e645eb0ccd13dca8c7bd15f2de"
   }
  }
 },
 "nbformat": 4,
 "nbformat_minor": 2
}
