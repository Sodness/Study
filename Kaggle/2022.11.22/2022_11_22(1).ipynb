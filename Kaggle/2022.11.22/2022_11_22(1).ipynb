{
 "cells": [
  {
   "cell_type": "code",
   "execution_count": 5,
   "metadata": {},
   "outputs": [
    {
     "name": "stdout",
     "output_type": "stream",
     "text": [
      "91\n"
     ]
    }
   ],
   "source": [
    "# T1-1.Outlier(IQR) / #이상치 #IQR\n",
    "# 데이터에서 IQR을 활용해 Fare컬럼의 이상치를 찾고, \n",
    "# 이상치 데이터의 여성 수를 구하시오\n",
    "# 풀이\n",
    "\n",
    "import pandas as pd\n",
    "\n",
    "df = pd.read_csv('./data/train.csv')\n",
    "# print(df.head(3))\n",
    "\n",
    "Q1 = df['Fare'].quantile(.25)\n",
    "Q3 = df['Fare'].quantile(.75)\n",
    "IQR = Q3 - Q1\n",
    "\n",
    "cond1 = df['Fare'] < Q1-IQR*0.5\n",
    "cond2 = df['Fare'] > Q3+IQR*0.5\n",
    "\n",
    "df = df[cond1 | cond2]\n",
    "answer = sum(df['Sex'] == 'female')\n",
    "print(answer)"
   ]
  },
  {
   "cell_type": "code",
   "execution_count": 6,
   "metadata": {},
   "outputs": [
    {
     "name": "stdout",
     "output_type": "stream",
     "text": [
      "70\n"
     ]
    }
   ],
   "source": [
    "# 풀이 수정\n",
    "\n",
    "import pandas as pd\n",
    "\n",
    "df = pd.read_csv('./data/train.csv')\n",
    "# print(df.head(3))\n",
    "\n",
    "Q1 = df['Fare'].quantile(.25)\n",
    "Q3 = df['Fare'].quantile(.75)\n",
    "IQR = Q3 - Q1\n",
    "\n",
    "cond1 = df['Fare'] < Q1 - IQR*1.5\n",
    "cond2 = df['Fare'] > Q3 + IQR*1.5\n",
    "\n",
    "df = df[cond1 | cond2]\n",
    "answer = sum(df['Sex'] == 'female')\n",
    "print(answer)"
   ]
  },
  {
   "cell_type": "markdown",
   "metadata": {},
   "source": [
    "### ==========================="
   ]
  },
  {
   "cell_type": "code",
   "execution_count": 12,
   "metadata": {},
   "outputs": [
    {
     "name": "stdout",
     "output_type": "stream",
     "text": [
      "69.5\n"
     ]
    }
   ],
   "source": [
    "# T1-2.Outlier(age) / #이상치 #소수점나이\n",
    "# 주어진 데이터에서 이상치(소수점 나이)를 찾고 올림, 내림, 버림(절사)했을때 \n",
    "# 3가지 모두 이상치 'age' 평균을 구한 다음 모두 더하여 출력하시오\n",
    "# 풀이\n",
    "\n",
    "import pandas as pd\n",
    "import numpy as np\n",
    "\n",
    "df = pd.read_csv('./data/basic1.csv')\n",
    "# print(df.head(3))\n",
    "# print(df.info())\n",
    "\n",
    "df_int = df['age'].astype('int')\n",
    "\n",
    "df = df[df['age'] != df_int]\n",
    "# print(df)\n",
    "\n",
    "age_ceil = np.ceil(df['age'])\n",
    "age_floor = np.floor(df['age'])\n",
    "age_trunc = np.trunc(df['age'])\n",
    "\n",
    "ceil_m = age_ceil.mean()\n",
    "floor_m = age_floor.mean()\n",
    "trunc_m = age_trunc.mean()\n",
    "\n",
    "answer = ceil_m + floor_m + trunc_m\n",
    "print(answer)"
   ]
  },
  {
   "cell_type": "code",
   "execution_count": 13,
   "metadata": {},
   "outputs": [
    {
     "name": "stdout",
     "output_type": "stream",
     "text": [
      "69.5\n"
     ]
    }
   ],
   "source": [
    "# 해답\n",
    "\n",
    "import pandas as pd\n",
    "import numpy as np\n",
    "\n",
    "df = pd.read_csv('./data/basic1.csv')\n",
    "# df.head()\n",
    "\n",
    "df = df[(df['age']-np.floor(df['age']))!= 0]\n",
    "\n",
    "# 올림\n",
    "m_ceil = np.ceil(df['age']).mean()\n",
    "# 내림\n",
    "m_floor = np.floor(df['age']).mean()\n",
    "# 버림\n",
    "m_trunc = np.trunc(df['age']).mean()\n",
    "\n",
    "print(m_ceil + m_floor + m_trunc)"
   ]
  },
  {
   "cell_type": "markdown",
   "metadata": {},
   "source": [
    "### ==========================="
   ]
  },
  {
   "cell_type": "code",
   "execution_count": 23,
   "metadata": {},
   "outputs": [
    {
     "name": "stdout",
     "output_type": "stream",
     "text": [
      "        age    f1   f2         f5\n",
      "city                             \n",
      "경기    63.00  58.0  0.0  69.730313\n",
      "대구    57.50  75.0  0.0  33.308999\n",
      "부산    47.00  62.0  1.0  52.667078\n",
      "서울    31.65  68.0  1.0  67.886373\n",
      "64.16\n"
     ]
    },
    {
     "name": "stderr",
     "output_type": "stream",
     "text": [
      "C:\\Users\\user\\AppData\\Local\\Temp\\ipykernel_2236\\2528236239.py:27: SettingWithCopyWarning: \n",
      "A value is trying to be set on a copy of a slice from a DataFrame\n",
      "\n",
      "See the caveats in the documentation: https://pandas.pydata.org/pandas-docs/stable/user_guide/indexing.html#returning-a-view-versus-a-copy\n",
      "  df['f1'][df['city'] == city] = f1\n"
     ]
    }
   ],
   "source": [
    "# T1-3. Missing data / #결측치 #삭제 #중앙 #평균\n",
    "# 주어진 데이터에서 결측치가 80%이상 되는 컬럼은(변수는) 삭제하고, \n",
    "# 80% 미만인 결측치가 있는 컬럼은 'city'별 중앙값으로 값을 대체하고 \n",
    "# 'f1'컬럼의 평균값을 출력하세요!\n",
    "# 풀이\n",
    "\n",
    "import pandas as pd\n",
    "\n",
    "df = pd.read_csv('./data/basic1.csv')\n",
    "# print(df.head(3))\n",
    "# print(df.isnull().sum()) # f1(31), f3(95)\n",
    "\n",
    "\n",
    "idx = df.isnull().sum()[df.isnull().sum() >= len(df)*0.8].index\n",
    "# print(idx)\n",
    "df = df.drop(columns = idx)\n",
    "# print(help(df.drop))\n",
    "# print(df.head())\n",
    "\n",
    "group_city = df.groupby('city').median()\n",
    "print(group_city)\n",
    "\n",
    "citys = group_city.index\n",
    "col_f1 = group_city['f1']\n",
    "\n",
    "for city,f1 in zip(citys, col_f1):\n",
    "    df['f1'][df['city'] == city] = f1\n",
    "\n",
    "# print(df.isnull().sum())\n",
    "answer = df['f1'].mean()\n",
    "print(answer)"
   ]
  },
  {
   "cell_type": "code",
   "execution_count": 24,
   "metadata": {},
   "outputs": [
    {
     "name": "stdout",
     "output_type": "stream",
     "text": [
      "65.52\n"
     ]
    }
   ],
   "source": [
    "# 해답\n",
    "\n",
    "import pandas as pd\n",
    "import numpy as np\n",
    "\n",
    "df = pd.read_csv('./data/basic1.csv')\n",
    "# df.head()\n",
    "\n",
    "df = df.drop(['f3'], axis=1)\n",
    "\n",
    "s=df[df['city']=='서울']['f1'].median()\n",
    "k=df[df['city']=='경기']['f1'].median()\n",
    "b=df[df['city']=='부산']['f1'].median()\n",
    "d=df[df['city']=='대구']['f1'].median()\n",
    "\n",
    "df['f1'] = df['f1'].fillna(df['city'].map({'서울':s,'경기':k,'부산':b,'대구':d}))\n",
    "\n",
    "print(df['f1'].mean())\n"
   ]
  },
  {
   "cell_type": "code",
   "execution_count": 37,
   "metadata": {},
   "outputs": [
    {
     "name": "stdout",
     "output_type": "stream",
     "text": [
      "        age    f1   f2         f5\n",
      "city                             \n",
      "경기    63.00  58.0  0.0  69.730313\n",
      "대구    57.50  75.0  0.0  33.308999\n",
      "부산    47.00  62.0  1.0  52.667078\n",
      "서울    31.65  68.0  1.0  67.886373\n",
      "id      0\n",
      "age     0\n",
      "city    0\n",
      "f1      0\n",
      "f2      0\n",
      "f4      0\n",
      "f5      0\n",
      "dtype: int64\n",
      "65.52\n"
     ]
    },
    {
     "name": "stderr",
     "output_type": "stream",
     "text": [
      "C:\\Users\\user\\AppData\\Local\\Temp\\ipykernel_2236\\1375366123.py:23: SettingWithCopyWarning: \n",
      "A value is trying to be set on a copy of a slice from a DataFrame\n",
      "\n",
      "See the caveats in the documentation: https://pandas.pydata.org/pandas-docs/stable/user_guide/indexing.html#returning-a-view-versus-a-copy\n",
      "  df['f1'][df['city'] == city] = df['f1'][df['city'] == city].fillna(f1)\n"
     ]
    }
   ],
   "source": [
    "# 풀이 수정\n",
    "\n",
    "import pandas as pd\n",
    "\n",
    "df = pd.read_csv('./data/basic1.csv')\n",
    "# print(df.head(3))\n",
    "# print(df.isnull().sum()) # f1(31), f3(95)\n",
    "\n",
    "\n",
    "idx = df.isnull().sum()[df.isnull().sum() >= len(df)*0.8].index\n",
    "# print(idx)\n",
    "df = df.drop(columns = idx)\n",
    "# print(help(df.drop))\n",
    "# print(df.head())\n",
    "\n",
    "group_city = df.groupby('city').median()\n",
    "print(group_city)\n",
    "\n",
    "citys = group_city.index\n",
    "col_f1 = group_city['f1']\n",
    "\n",
    "for city,f1 in zip(citys, col_f1):\n",
    "    df['f1'][df['city'] == city] = df['f1'][df['city'] == city].fillna(f1)\n",
    "    # print(city, f1)\n",
    "    # print(df['f1'][df['city'] == city].fillna(f1))\n",
    "    # print(df[df['city'] == city])\n",
    "\n",
    "print(df.isnull().sum())\n",
    "answer = df['f1'].mean()\n",
    "print(answer)"
   ]
  },
  {
   "cell_type": "markdown",
   "metadata": {},
   "source": [
    "### ==========================="
   ]
  },
  {
   "cell_type": "code",
   "execution_count": 39,
   "metadata": {},
   "outputs": [
    {
     "name": "stdout",
     "output_type": "stream",
     "text": [
      "   Id  MSSubClass MSZoning  LotFrontage  LotArea Street Alley LotShape  \\\n",
      "0   1          60       RL         65.0     8450   Pave   NaN      Reg   \n",
      "1   2          20       RL         80.0     9600   Pave   NaN      Reg   \n",
      "2   3          60       RL         68.0    11250   Pave   NaN      IR1   \n",
      "\n",
      "  LandContour Utilities  ... PoolArea PoolQC Fence MiscFeature MiscVal MoSold  \\\n",
      "0         Lvl    AllPub  ...        0    NaN   NaN         NaN       0      2   \n",
      "1         Lvl    AllPub  ...        0    NaN   NaN         NaN       0      5   \n",
      "2         Lvl    AllPub  ...        0    NaN   NaN         NaN       0      9   \n",
      "\n",
      "  YrSold  SaleType  SaleCondition  SalePrice  \n",
      "0   2008        WD         Normal     208500  \n",
      "1   2007        WD         Normal     181500  \n",
      "2   2008        WD         Normal     223500  \n",
      "\n",
      "[3 rows x 81 columns]\n",
      "1.8828757597682129 6.536281860064529\n"
     ]
    },
    {
     "ename": "AttributeError",
     "evalue": "'Series' object has no attribute 'scale'",
     "output_type": "error",
     "traceback": [
      "\u001b[1;31m---------------------------------------------------------------------------\u001b[0m",
      "\u001b[1;31mAttributeError\u001b[0m                            Traceback (most recent call last)",
      "\u001b[1;32mc:\\Users\\user\\Desktop\\빅분기 실기\\2022.11.22\\2022_11_22(1).ipynb 셀 11\u001b[0m in \u001b[0;36m<cell line: 17>\u001b[1;34m()\u001b[0m\n\u001b[0;32m     <a href='vscode-notebook-cell:/c%3A/Users/user/Desktop/%EB%B9%85%EB%B6%84%EA%B8%B0%20%EC%8B%A4%EA%B8%B0/2022.11.22/2022_11_22%281%29.ipynb#X12sZmlsZQ%3D%3D?line=13'>14</a>\u001b[0m kurt1 \u001b[39m=\u001b[39m df[\u001b[39m'\u001b[39m\u001b[39mSalePrice\u001b[39m\u001b[39m'\u001b[39m]\u001b[39m.\u001b[39mkurt()\n\u001b[0;32m     <a href='vscode-notebook-cell:/c%3A/Users/user/Desktop/%EB%B9%85%EB%B6%84%EA%B8%B0%20%EC%8B%A4%EA%B8%B0/2022.11.22/2022_11_22%281%29.ipynb#X12sZmlsZQ%3D%3D?line=14'>15</a>\u001b[0m \u001b[39mprint\u001b[39m(skew1, kurt1)\n\u001b[1;32m---> <a href='vscode-notebook-cell:/c%3A/Users/user/Desktop/%EB%B9%85%EB%B6%84%EA%B8%B0%20%EC%8B%A4%EA%B8%B0/2022.11.22/2022_11_22%281%29.ipynb#X12sZmlsZQ%3D%3D?line=16'>17</a>\u001b[0m df_log \u001b[39m=\u001b[39m df[\u001b[39m'\u001b[39;49m\u001b[39mSalePrice\u001b[39;49m\u001b[39m'\u001b[39;49m]\u001b[39m.\u001b[39;49mscale()\n\u001b[0;32m     <a href='vscode-notebook-cell:/c%3A/Users/user/Desktop/%EB%B9%85%EB%B6%84%EA%B8%B0%20%EC%8B%A4%EA%B8%B0/2022.11.22/2022_11_22%281%29.ipynb#X12sZmlsZQ%3D%3D?line=17'>18</a>\u001b[0m skew2 \u001b[39m=\u001b[39m df_log[\u001b[39m'\u001b[39m\u001b[39mSalePrice\u001b[39m\u001b[39m'\u001b[39m]\u001b[39m.\u001b[39mskew()\n\u001b[0;32m     <a href='vscode-notebook-cell:/c%3A/Users/user/Desktop/%EB%B9%85%EB%B6%84%EA%B8%B0%20%EC%8B%A4%EA%B8%B0/2022.11.22/2022_11_22%281%29.ipynb#X12sZmlsZQ%3D%3D?line=18'>19</a>\u001b[0m kurt2 \u001b[39m=\u001b[39m df_log[\u001b[39m'\u001b[39m\u001b[39mSalePrice\u001b[39m\u001b[39m'\u001b[39m]\u001b[39m.\u001b[39mkurt()\n",
      "File \u001b[1;32mc:\\Users\\user\\.conda\\envs\\han\\lib\\site-packages\\pandas\\core\\generic.py:5575\u001b[0m, in \u001b[0;36mNDFrame.__getattr__\u001b[1;34m(self, name)\u001b[0m\n\u001b[0;32m   5568\u001b[0m \u001b[39mif\u001b[39;00m (\n\u001b[0;32m   5569\u001b[0m     name \u001b[39mnot\u001b[39;00m \u001b[39min\u001b[39;00m \u001b[39mself\u001b[39m\u001b[39m.\u001b[39m_internal_names_set\n\u001b[0;32m   5570\u001b[0m     \u001b[39mand\u001b[39;00m name \u001b[39mnot\u001b[39;00m \u001b[39min\u001b[39;00m \u001b[39mself\u001b[39m\u001b[39m.\u001b[39m_metadata\n\u001b[0;32m   5571\u001b[0m     \u001b[39mand\u001b[39;00m name \u001b[39mnot\u001b[39;00m \u001b[39min\u001b[39;00m \u001b[39mself\u001b[39m\u001b[39m.\u001b[39m_accessors\n\u001b[0;32m   5572\u001b[0m     \u001b[39mand\u001b[39;00m \u001b[39mself\u001b[39m\u001b[39m.\u001b[39m_info_axis\u001b[39m.\u001b[39m_can_hold_identifiers_and_holds_name(name)\n\u001b[0;32m   5573\u001b[0m ):\n\u001b[0;32m   5574\u001b[0m     \u001b[39mreturn\u001b[39;00m \u001b[39mself\u001b[39m[name]\n\u001b[1;32m-> 5575\u001b[0m \u001b[39mreturn\u001b[39;00m \u001b[39mobject\u001b[39;49m\u001b[39m.\u001b[39;49m\u001b[39m__getattribute__\u001b[39;49m(\u001b[39mself\u001b[39;49m, name)\n",
      "\u001b[1;31mAttributeError\u001b[0m: 'Series' object has no attribute 'scale'"
     ]
    }
   ],
   "source": [
    "# T1-4. Skewness and Kurtosis (Log Scale) / #왜도 #첨도 #로그스케일\n",
    "# 주어진 데이터 중 train.csv에서 'SalePrice'컬럼의 왜도와 첨도를 구한 값과, \n",
    "# 'SalePrice'컬럼을 스케일링(log1p)로 변환한 이후 왜도와 첨도를 구해 \n",
    "# 모두 더한 다음 소수점 2째자리까지 출력하시오\n",
    "# 풀이\n",
    "\n",
    "import pandas as pd\n",
    "import numpy as np\n",
    "\n",
    "df = pd.read_csv('./data/house_train.csv')\n",
    "print(df.head(3))\n",
    "\n",
    "skew1 = df['SalePrice'].skew()\n",
    "kurt1 = df['SalePrice'].kurt()\n",
    "print(skew1, kurt1)\n",
    "\n",
    "df_log = df['SalePrice'].scale()\n",
    "skew2 = df_log['SalePrice'].skew()\n",
    "kurt2 = df_log['SalePrice'].kurt()\n",
    "\n",
    "answer = round(skew1 + kurt1 + skew2 + kurt2, 2)\n",
    "print(answer)"
   ]
  },
  {
   "cell_type": "code",
   "execution_count": 40,
   "metadata": {},
   "outputs": [
    {
     "name": "stdout",
     "output_type": "stream",
     "text": [
      "   Id  MSSubClass MSZoning  LotFrontage  LotArea Street Alley LotShape  \\\n",
      "0   1          60       RL         65.0     8450   Pave   NaN      Reg   \n",
      "1   2          20       RL         80.0     9600   Pave   NaN      Reg   \n",
      "2   3          60       RL         68.0    11250   Pave   NaN      IR1   \n",
      "\n",
      "  LandContour Utilities  ... PoolArea PoolQC Fence MiscFeature MiscVal MoSold  \\\n",
      "0         Lvl    AllPub  ...        0    NaN   NaN         NaN       0      2   \n",
      "1         Lvl    AllPub  ...        0    NaN   NaN         NaN       0      5   \n",
      "2         Lvl    AllPub  ...        0    NaN   NaN         NaN       0      9   \n",
      "\n",
      "  YrSold  SaleType  SaleCondition  SalePrice  \n",
      "0   2008        WD         Normal     208500  \n",
      "1   2007        WD         Normal     181500  \n",
      "2   2008        WD         Normal     223500  \n",
      "\n",
      "[3 rows x 81 columns]\n",
      "9.35\n"
     ]
    }
   ],
   "source": [
    "# 해답\n",
    "\n",
    "import pandas as pd\n",
    "import numpy as np\n",
    "\n",
    "df = pd.read_csv('./data/house_train.csv')\n",
    "print(df.head(3))\n",
    "\n",
    "s1 = df['SalePrice'].skew()\n",
    "k1 = df['SalePrice'].kurt()\n",
    "\n",
    "df['SalePrice'] = np.log1p(df['SalePrice'])\n",
    "s2 = df['SalePrice'].skew()\n",
    "k2 = df['SalePrice'].kurt()\n",
    "\n",
    "print(round(s1+s2+k1+k2,2))"
   ]
  },
  {
   "cell_type": "code",
   "execution_count": 43,
   "metadata": {},
   "outputs": [
    {
     "name": "stdout",
     "output_type": "stream",
     "text": [
      "9.35\n"
     ]
    }
   ],
   "source": [
    "# 풀이 수정\n",
    "\n",
    "import pandas as pd\n",
    "import numpy as np\n",
    "\n",
    "df = pd.read_csv('./data/house_train.csv')\n",
    "# print(df.head(3))\n",
    "\n",
    "skew1 = df['SalePrice'].skew()\n",
    "kurt1 = df['SalePrice'].kurt()\n",
    "# print(skew1, kurt1)\n",
    "\n",
    "df['SalePrice'] = np.log1p(df['SalePrice'])\n",
    "skew2 = df['SalePrice'].skew()\n",
    "kurt2 = df['SalePrice'].kurt()\n",
    "# print(df.head(3))\n",
    "\n",
    "answer = round(skew1 + kurt1 + skew2 + kurt2, 2)\n",
    "print(answer)"
   ]
  },
  {
   "cell_type": "markdown",
   "metadata": {},
   "source": [
    "### ==========================="
   ]
  },
  {
   "cell_type": "code",
   "execution_count": 46,
   "metadata": {},
   "outputs": [
    {
     "name": "stdout",
     "output_type": "stream",
     "text": [
      "5.859621525876811\n"
     ]
    }
   ],
   "source": [
    "# T1-5. Standard deviation / #표준편차\n",
    "# 주어진 데이터 중 basic1.csv에서 'f4'컬럼 값이 'ENFJ'와 'INFP'인 \n",
    "# 'f1'의 표준편차 차이를 절대값으로 구하시오\n",
    "\n",
    "import pandas as pd\n",
    "\n",
    "df = pd.read_csv('./data/basic1.csv')\n",
    "# print(df.head(3))\n",
    "\n",
    "cond1 = df['f4'] == 'ENFJ'\n",
    "cond2 = df['f4'] == 'INFP'\n",
    "\n",
    "std1 = df[cond1]['f1'].std()\n",
    "std2 = df[cond2]['f1'].std()\n",
    "\n",
    "answer = abs(std1 - std2)\n",
    "print(answer)"
   ]
  },
  {
   "cell_type": "markdown",
   "metadata": {},
   "source": [
    "### ==========================="
   ]
  },
  {
   "cell_type": "code",
   "execution_count": 58,
   "metadata": {},
   "outputs": [
    {
     "name": "stdout",
     "output_type": "stream",
     "text": [
      "     id   age city    f1  f2   f3    f4         f5\n",
      "0  id01   2.0   서울   NaN   0  NaN  ENFJ  91.297791\n",
      "1  id02   9.0   서울  70.0   1  NaN  ENFJ  60.339826\n",
      "2  id03  27.0   서울  61.0   1  NaN  ISTJ  17.252986\n",
      "(100, 8)\n"
     ]
    },
    {
     "ename": "TypeError",
     "evalue": "DataFrame.dropna() got an unexpected keyword argument 'column'",
     "output_type": "error",
     "traceback": [
      "\u001b[1;31m---------------------------------------------------------------------------\u001b[0m",
      "\u001b[1;31mTypeError\u001b[0m                                 Traceback (most recent call last)",
      "\u001b[1;32mc:\\Users\\user\\Desktop\\빅분기 실기\\2022.11.22\\2022_11_22(1).ipynb 셀 17\u001b[0m in \u001b[0;36m<cell line: 13>\u001b[1;34m()\u001b[0m\n\u001b[0;32m     <a href='vscode-notebook-cell:/c%3A/Users/user/Desktop/%EB%B9%85%EB%B6%84%EA%B8%B0%20%EC%8B%A4%EA%B8%B0/2022.11.22/2022_11_22%281%29.ipynb#X21sZmlsZQ%3D%3D?line=9'>10</a>\u001b[0m \u001b[39m# print(df.isnull().sum())\u001b[39;00m\n\u001b[0;32m     <a href='vscode-notebook-cell:/c%3A/Users/user/Desktop/%EB%B9%85%EB%B6%84%EA%B8%B0%20%EC%8B%A4%EA%B8%B0/2022.11.22/2022_11_22%281%29.ipynb#X21sZmlsZQ%3D%3D?line=11'>12</a>\u001b[0m \u001b[39mprint\u001b[39m(df\u001b[39m.\u001b[39mshape)\n\u001b[1;32m---> <a href='vscode-notebook-cell:/c%3A/Users/user/Desktop/%EB%B9%85%EB%B6%84%EA%B8%B0%20%EC%8B%A4%EA%B8%B0/2022.11.22/2022_11_22%281%29.ipynb#X21sZmlsZQ%3D%3D?line=12'>13</a>\u001b[0m df \u001b[39m=\u001b[39m df\u001b[39m.\u001b[39;49mdropna(column\u001b[39m=\u001b[39;49m\u001b[39m'\u001b[39;49m\u001b[39mf1\u001b[39;49m\u001b[39m'\u001b[39;49m)\n\u001b[0;32m     <a href='vscode-notebook-cell:/c%3A/Users/user/Desktop/%EB%B9%85%EB%B6%84%EA%B8%B0%20%EC%8B%A4%EA%B8%B0/2022.11.22/2022_11_22%281%29.ipynb#X21sZmlsZQ%3D%3D?line=13'>14</a>\u001b[0m \u001b[39mprint\u001b[39m(df\u001b[39m.\u001b[39mshape)\n\u001b[0;32m     <a href='vscode-notebook-cell:/c%3A/Users/user/Desktop/%EB%B9%85%EB%B6%84%EA%B8%B0%20%EC%8B%A4%EA%B8%B0/2022.11.22/2022_11_22%281%29.ipynb#X21sZmlsZQ%3D%3D?line=14'>15</a>\u001b[0m \u001b[39mprint\u001b[39m(df\u001b[39m.\u001b[39mhead())\n",
      "File \u001b[1;32mc:\\Users\\user\\.conda\\envs\\han\\lib\\site-packages\\pandas\\util\\_decorators.py:311\u001b[0m, in \u001b[0;36mdeprecate_nonkeyword_arguments.<locals>.decorate.<locals>.wrapper\u001b[1;34m(*args, **kwargs)\u001b[0m\n\u001b[0;32m    305\u001b[0m \u001b[39mif\u001b[39;00m \u001b[39mlen\u001b[39m(args) \u001b[39m>\u001b[39m num_allow_args:\n\u001b[0;32m    306\u001b[0m     warnings\u001b[39m.\u001b[39mwarn(\n\u001b[0;32m    307\u001b[0m         msg\u001b[39m.\u001b[39mformat(arguments\u001b[39m=\u001b[39marguments),\n\u001b[0;32m    308\u001b[0m         \u001b[39mFutureWarning\u001b[39;00m,\n\u001b[0;32m    309\u001b[0m         stacklevel\u001b[39m=\u001b[39mstacklevel,\n\u001b[0;32m    310\u001b[0m     )\n\u001b[1;32m--> 311\u001b[0m \u001b[39mreturn\u001b[39;00m func(\u001b[39m*\u001b[39margs, \u001b[39m*\u001b[39m\u001b[39m*\u001b[39mkwargs)\n",
      "\u001b[1;31mTypeError\u001b[0m: DataFrame.dropna() got an unexpected keyword argument 'column'"
     ]
    }
   ],
   "source": [
    "# T1-6. Groupby Sum / #결측치 #조건\n",
    "# 주어진 데이터 중 basic1.csv에서 'f1'컬럼 결측 데이터를 제거하고, \n",
    "# 'city'와 'f2'을 기준으로 묶어 합계를 구하고, \n",
    "# 'city가 경기이면서 f2가 0'인 조건에 만족하는 f1 값을 구하시오\n",
    "\n",
    "import pandas as pd\n",
    "\n",
    "df = pd.read_csv('./data/basic1.csv')\n",
    "print(df.head(3))\n",
    "# print(df.isnull().sum())\n",
    "\n",
    "print(df.shape)\n",
    "df = df.dropna(column='f1')\n",
    "print(df.shape)\n",
    "print(df.head())\n",
    "\n",
    "group = df.groupby(['city', 'f2']).sum()\n",
    "print(group.head())\n",
    "group = group.reset_index(drop=False)\n",
    "answer = group[(group['city']=='경기') & (group['f2'] == 0)]['f1']\n",
    "print(answer)"
   ]
  },
  {
   "cell_type": "code",
   "execution_count": 80,
   "metadata": {},
   "outputs": [
    {
     "name": "stdout",
     "output_type": "stream",
     "text": [
      "           age     f1          f5\n",
      "city f2                          \n",
      "경기   0   720.4  833.0  943.944823\n",
      "     1   696.0  670.0  657.241212\n",
      "     2   239.0  311.0  362.300060\n",
      "대구   0   387.0  527.0  183.199568\n",
      "     1   217.6  235.0  241.333824\n",
      "age    720.400000\n",
      "f1     833.000000\n",
      "f5     943.944823\n",
      "Name: (경기, 0), dtype: float64\n",
      "833.0\n",
      "833.0\n"
     ]
    }
   ],
   "source": [
    "# 해답\n",
    "\n",
    "import pandas as pd\n",
    "import numpy as np\n",
    "\n",
    "df = pd.read_csv('./data/basic1.csv')\n",
    "# print(df.head(3))\n",
    "\n",
    "df = df[~df['f1'].isnull()]\n",
    "\n",
    "df2 = df.groupby(['city','f2']).sum()\n",
    "print(df2.head())\n",
    "print(df2.iloc[0])\n",
    "print(df2.iloc[0]['f1'])\n",
    "print(df2.loc[('경기',0)]['f1'])"
   ]
  },
  {
   "cell_type": "code",
   "execution_count": 70,
   "metadata": {},
   "outputs": [
    {
     "name": "stdout",
     "output_type": "stream",
     "text": [
      "  city  f2    age     f1          f5\n",
      "0   경기   0  720.4  833.0  943.944823\n",
      "1   경기   1  696.0  670.0  657.241212\n",
      "2   경기   2  239.0  311.0  362.300060\n",
      "3   대구   0  387.0  527.0  183.199568\n",
      "4   대구   1  217.6  235.0  241.333824\n",
      "833.0\n"
     ]
    }
   ],
   "source": [
    "import pandas as pd\n",
    "\n",
    "df = pd.read_csv('./data/basic1.csv')\n",
    "# print(df.head(3))\n",
    "# print(df.isnull().sum())\n",
    "\n",
    "# print(df.shape)\n",
    "df = df[df['f1'].notnull()]\n",
    "# print(df.shape)\n",
    "# print(df.head())\n",
    "\n",
    "group = df.groupby(['city', 'f2']).sum()\n",
    "# print(group.head())\n",
    "group = group.reset_index(drop=False)\n",
    "print(group.head())\n",
    "answer = group[(group['city']=='경기') & (group['f2'] == 0)]['f1'][0]\n",
    "print(answer)"
   ]
  },
  {
   "cell_type": "markdown",
   "metadata": {},
   "source": [
    "### ==========================="
   ]
  },
  {
   "cell_type": "code",
   "execution_count": 90,
   "metadata": {},
   "outputs": [
    {
     "name": "stdout",
     "output_type": "stream",
     "text": [
      "90.0\n"
     ]
    },
    {
     "name": "stderr",
     "output_type": "stream",
     "text": [
      "C:\\Users\\user\\AppData\\Local\\Temp\\ipykernel_2236\\3208479641.py:11: SettingWithCopyWarning: \n",
      "A value is trying to be set on a copy of a slice from a DataFrame\n",
      "\n",
      "See the caveats in the documentation: https://pandas.pydata.org/pandas-docs/stable/user_guide/indexing.html#returning-a-view-versus-a-copy\n",
      "  df['f4'][df['f4'] == 'ESFJ'] = 'ISFJ'\n"
     ]
    }
   ],
   "source": [
    "# T1-7. Replace / #값변경 #조건 #최대값\n",
    "# 'f4'컬럼의 값이 'ESFJ'인 데이터를 'ISFJ'로 대체하고, \n",
    "# 'city'가 '경기'이면서 'f4'가 'ISFJ'인 데이터 중 'age'컬럼의 최대값을 출력하시오!\n",
    "# 풀이\n",
    "\n",
    "import pandas as pd\n",
    "\n",
    "df = pd.read_csv('./data/basic1.csv')\n",
    "# print(df.head(3))\n",
    "\n",
    "df['f4'][df['f4'] == 'ESFJ'] = 'ISFJ'\n",
    "# print(df['f4'][df['f4'] == 'ESFJ'])\n",
    "\n",
    "cond1 = df['city'] == '경기'\n",
    "cond2 = df['f4'] == 'ISFJ'\n",
    "\n",
    "answer = df[cond1 & cond2]['age'].max()\n",
    "print(answer)"
   ]
  },
  {
   "cell_type": "code",
   "execution_count": 91,
   "metadata": {},
   "outputs": [
    {
     "name": "stdout",
     "output_type": "stream",
     "text": [
      "90.0\n"
     ]
    }
   ],
   "source": [
    "# 해답\n",
    "\n",
    "import pandas as pd\n",
    "import numpy as np\n",
    "\n",
    "df = pd.read_csv('./data/basic1.csv')\n",
    "df['f4'] = df['f4'].replace('ESFJ', 'ISFJ')\n",
    "\n",
    "print(df[(df['f4'] == 'ISFJ') & (df['city'] == '경기')]['age'].max())"
   ]
  },
  {
   "cell_type": "code",
   "execution_count": 92,
   "metadata": {},
   "outputs": [
    {
     "name": "stdout",
     "output_type": "stream",
     "text": [
      "90.0\n"
     ]
    }
   ],
   "source": [
    "# 풀이 수정\n",
    "\n",
    "import pandas as pd\n",
    "\n",
    "df = pd.read_csv('./data/basic1.csv')\n",
    "# print(df.head(3))\n",
    "\n",
    "# df['f4'][df['f4'] == 'ESFJ'] = 'ISFJ'\n",
    "df['f4'] = df['f4'].replace('ESFJ', 'ISFJ')\n",
    "# print(df['f4'][df['f4'] == 'ESFJ'])\n",
    "\n",
    "cond1 = df['city'] == '경기'\n",
    "cond2 = df['f4'] == 'ISFJ'\n",
    "\n",
    "answer = df[cond1 & cond2]['age'].max()\n",
    "print(answer)"
   ]
  },
  {
   "cell_type": "markdown",
   "metadata": {},
   "source": [
    "### ==========================="
   ]
  },
  {
   "cell_type": "code",
   "execution_count": 102,
   "metadata": {},
   "outputs": [
    {
     "name": "stdout",
     "output_type": "stream",
     "text": [
      "     id   age city    f1  f2   f3    f4         f5\n",
      "0  id01   2.0   서울   NaN   0  NaN  ENFJ  91.297791\n",
      "1  id02   9.0   서울  70.0   1  NaN  ENFJ  60.339826\n",
      "2  id03  27.0   서울  61.0   1  NaN  ISTJ  17.252986\n",
      "1315.2702702702702\n"
     ]
    }
   ],
   "source": [
    "# T1-8. Cumulative Sum / #누적합 #결측치 #보간\n",
    "# 주어진 데이터 셋에서 'f2' 컬럼이 1인 조건에 해당하는 데이터의 'f1'컬럼 누적합을 계산한다. \n",
    "# 이때 발생하는 누적합 결측치는 바로 뒤의 값을 채우고, \n",
    "# 누적합의 평균값을 출력한다. \n",
    "# (단, 결측치 바로 뒤의 값이 없으면 다음에 나오는 값을 채워넣는다)\n",
    "# 풀이\n",
    "\n",
    "import pandas as pd\n",
    "\n",
    "df = pd.read_csv('./data/basic1.csv')\n",
    "# print(df.head(3))\n",
    "\n",
    "df = df[df['f2'] == 1]\n",
    "# df['f1'].cumsum()\n",
    "# print(help(df['f1'].cumsum))\n",
    "# print(help(df['f1'].bfill))\n",
    "\n",
    "# print(df.head(3))\n",
    "# print(df.isnull().sum())\n",
    "df['f1'] = df['f1'].bfill()\n",
    "# print(df.isnull().sum())\n",
    "\n",
    "answer = df['f1'].cumsum()\n",
    "answer = answer.mean()\n",
    "print(answer)"
   ]
  },
  {
   "cell_type": "code",
   "execution_count": 110,
   "metadata": {},
   "outputs": [
    {
     "name": "stdout",
     "output_type": "stream",
     "text": [
      "980.3783783783783\n"
     ]
    }
   ],
   "source": [
    "# 해답\n",
    "\n",
    "import pandas as pd\n",
    "import numpy as np\n",
    "\n",
    "df = pd.read_csv('./data/basic1.csv')\n",
    "\n",
    "# 조건에 따른 누적합\n",
    "df2 = df[df['f2']==1]['f1'].cumsum()\n",
    "# print(df2.head(10))\n",
    "\n",
    "df2 = df2.fillna(method='bfill')\n",
    "print(df2.mean())"
   ]
  },
  {
   "cell_type": "code",
   "execution_count": 112,
   "metadata": {},
   "outputs": [
    {
     "name": "stdout",
     "output_type": "stream",
     "text": [
      "980.3783783783783\n"
     ]
    }
   ],
   "source": [
    "# 풀이 수정\n",
    "\n",
    "import pandas as pd\n",
    "\n",
    "df = pd.read_csv('./data/basic1.csv')\n",
    "# print(df.head(3))\n",
    "\n",
    "df = df[df['f2'] == 1]\n",
    "# df['f1'].cumsum()\n",
    "# print(help(df['f1'].cumsum))\n",
    "# print(help(df['f1'].bfill))\n",
    "\n",
    "# print(df.head(3))\n",
    "# print(df.isnull().sum())\n",
    "df2 = df['f1'].cumsum()\n",
    "\n",
    "df2 = df2.fillna(method='bfill')\n",
    "# print(df.isnull().sum())\n",
    "\n",
    "answer = df2.mean()\n",
    "print(answer)"
   ]
  },
  {
   "cell_type": "markdown",
   "metadata": {},
   "source": [
    "### ==========================="
   ]
  },
  {
   "cell_type": "code",
   "execution_count": 115,
   "metadata": {},
   "outputs": [
    {
     "name": "stdout",
     "output_type": "stream",
     "text": [
      "     id   age city    f1  f2   f3    f4         f5\n",
      "0  id01   2.0   서울   NaN   0  NaN  ENFJ  91.297791\n",
      "1  id02   9.0   서울  70.0   1  NaN  ENFJ  60.339826\n",
      "2  id03  27.0   서울  61.0   1  NaN  ISTJ  17.252986\n",
      "64.11309937\n"
     ]
    }
   ],
   "source": [
    "# T1-9. Standardization / #표준화 #중앙값\n",
    "# 주어진 데이터에서 'f5'컬럼을 표준화(Standardization (Z-score Normalization))하고\n",
    "# 그 중앙값을 구하시오\n",
    "# 풀이\n",
    "\n",
    "import pandas as pd\n",
    "import numpy as np\n",
    "\n",
    "df = pd.read_csv('./data/basic1.csv')\n",
    "print(df.head(3))\n",
    "\n",
    "# print(dir(np))\n",
    "\n",
    "answer = df['f5'].median()\n",
    "print(answer)"
   ]
  },
  {
   "cell_type": "code",
   "execution_count": 116,
   "metadata": {},
   "outputs": [
    {
     "name": "stdout",
     "output_type": "stream",
     "text": [
      "     id   age city    f1  f2   f3    f4         f5\n",
      "0  id01   2.0   서울   NaN   0  NaN  ENFJ  91.297791\n",
      "1  id02   9.0   서울  70.0   1  NaN  ENFJ  60.339826\n",
      "2  id03  27.0   서울  61.0   1  NaN  ISTJ  17.252986\n",
      "     id   age city    f1  f2   f3    f4        f5\n",
      "0  id01   2.0   서울   NaN   0  NaN  ENFJ  1.220815\n",
      "1  id02   9.0   서울  70.0   1  NaN  ENFJ  0.127343\n",
      "2  id03  27.0   서울  61.0   1  NaN  ISTJ -1.394535\n",
      "0.260619629559015\n"
     ]
    }
   ],
   "source": [
    "# 해답\n",
    "\n",
    "import pandas as pd\n",
    "import numpy as np\n",
    "\n",
    "df = pd.read_csv('./data/basic1.csv')\n",
    "print(df.head(3))\n",
    "\n",
    "# 표준화\n",
    "from sklearn.preprocessing import StandardScaler\n",
    "\n",
    "scaler = StandardScaler()\n",
    "df['f5'] = scaler.fit_transform(df[['f5']])\n",
    "print(df.head(3))\n",
    "\n",
    "print(df['f5'].median())"
   ]
  },
  {
   "cell_type": "code",
   "execution_count": 118,
   "metadata": {},
   "outputs": [
    {
     "name": "stdout",
     "output_type": "stream",
     "text": [
      "     id   age city    f1  f2   f3    f4         f5\n",
      "0  id01   2.0   서울   NaN   0  NaN  ENFJ  91.297791\n",
      "1  id02   9.0   서울  70.0   1  NaN  ENFJ  60.339826\n",
      "2  id03  27.0   서울  61.0   1  NaN  ISTJ  17.252986\n",
      "     id   age city    f1  f2   f3    f4        f5\n",
      "0  id01   2.0   서울   NaN   0  NaN  ENFJ  1.220815\n",
      "1  id02   9.0   서울  70.0   1  NaN  ENFJ  0.127343\n",
      "2  id03  27.0   서울  61.0   1  NaN  ISTJ -1.394535\n",
      "0.260619629559015\n"
     ]
    }
   ],
   "source": [
    "# 풀이 수정\n",
    "\n",
    "import pandas as pd\n",
    "\n",
    "df = pd.read_csv('./data/basic1.csv')\n",
    "print(df.head(3))\n",
    "\n",
    "from sklearn.preprocessing import StandardScaler\n",
    "\n",
    "scaler = StandardScaler()\n",
    "df['f5'] = scaler.fit_transform(df[['f5']])\n",
    "print(df.head(3))\n",
    "\n",
    "answer = df['f5'].median()\n",
    "print(answer)\n"
   ]
  },
  {
   "cell_type": "markdown",
   "metadata": {},
   "source": [
    "### ==========================="
   ]
  },
  {
   "cell_type": "code",
   "execution_count": 122,
   "metadata": {},
   "outputs": [
    {
     "name": "stdout",
     "output_type": "stream",
     "text": [
      "     id   age city    f1  f2   f3    f4         f5\n",
      "0  id01   2.0   서울   NaN   0  NaN  ENFJ  91.297791\n",
      "1  id02   9.0   서울  70.0   1  NaN  ENFJ  60.339826\n",
      "2  id03  27.0   서울  61.0   1  NaN  ISTJ  17.252986\n"
     ]
    },
    {
     "ename": "NameError",
     "evalue": "name 'yeo' is not defined",
     "output_type": "error",
     "traceback": [
      "\u001b[1;31m---------------------------------------------------------------------------\u001b[0m",
      "\u001b[1;31mNameError\u001b[0m                                 Traceback (most recent call last)",
      "\u001b[1;32mc:\\Users\\user\\Desktop\\빅분기 실기\\2022.11.22\\2022_11_22(1).ipynb 셀 33\u001b[0m in \u001b[0;36m<cell line: 21>\u001b[1;34m()\u001b[0m\n\u001b[0;32m     <a href='vscode-notebook-cell:/c%3A/Users/user/Desktop/%EB%B9%85%EB%B6%84%EA%B8%B0%20%EC%8B%A4%EA%B8%B0/2022.11.22/2022_11_22%281%29.ipynb#X44sZmlsZQ%3D%3D?line=17'>18</a>\u001b[0m \u001b[39mimport\u001b[39;00m \u001b[39mnumpy\u001b[39;00m\n\u001b[0;32m     <a href='vscode-notebook-cell:/c%3A/Users/user/Desktop/%EB%B9%85%EB%B6%84%EA%B8%B0%20%EC%8B%A4%EA%B8%B0/2022.11.22/2022_11_22%281%29.ipynb#X44sZmlsZQ%3D%3D?line=18'>19</a>\u001b[0m \u001b[39m# print(dir(numpy))\u001b[39;00m\n\u001b[1;32m---> <a href='vscode-notebook-cell:/c%3A/Users/user/Desktop/%EB%B9%85%EB%B6%84%EA%B8%B0%20%EC%8B%A4%EA%B8%B0/2022.11.22/2022_11_22%281%29.ipynb#X44sZmlsZQ%3D%3D?line=20'>21</a>\u001b[0m answer \u001b[39m=\u001b[39m \u001b[39mabs\u001b[39m(yeo \u001b[39m-\u001b[39m boxcox)\n\u001b[0;32m     <a href='vscode-notebook-cell:/c%3A/Users/user/Desktop/%EB%B9%85%EB%B6%84%EA%B8%B0%20%EC%8B%A4%EA%B8%B0/2022.11.22/2022_11_22%281%29.ipynb#X44sZmlsZQ%3D%3D?line=21'>22</a>\u001b[0m answer \u001b[39m=\u001b[39m \u001b[39mround\u001b[39m(answer, \u001b[39m2\u001b[39m)\n\u001b[0;32m     <a href='vscode-notebook-cell:/c%3A/Users/user/Desktop/%EB%B9%85%EB%B6%84%EA%B8%B0%20%EC%8B%A4%EA%B8%B0/2022.11.22/2022_11_22%281%29.ipynb#X44sZmlsZQ%3D%3D?line=22'>23</a>\u001b[0m \u001b[39mprint\u001b[39m(answer)\n",
      "\u001b[1;31mNameError\u001b[0m: name 'yeo' is not defined"
     ]
    }
   ],
   "source": [
    "# 주어진 데이터에서 20세 이상인 데이터를 추출하고 \n",
    "# 'f1'컬럼을 결측치를 최빈값으로 채운 후, \n",
    "# f1 컬럼의 여-존슨과 박스콕스 변환 값을 구하고, \n",
    "# 두 값의 차이를 절대값으로 구한다음 \n",
    "# 모두 더해 소수점 둘째 자리까지 출력(반올림)하시오\n",
    "# 풀이\n",
    "\n",
    "import pandas as pd\n",
    "\n",
    "df = pd.read_csv('./data/basic1.csv')\n",
    "print(df.head(3))\n",
    "\n",
    "df = df[df['age'] >= 20]\n",
    "# df['f1'] = df['f1'].fillna(df['f1'].최빈값())\n",
    "\n",
    "import sklearn.preprocessing\n",
    "# print(dir(sklearn.preprocessing))\n",
    "import numpy\n",
    "# print(dir(numpy))\n",
    "\n",
    "answer = abs(yeo - boxcox)\n",
    "answer = round(answer, 2)\n",
    "print(answer)"
   ]
  },
  {
   "cell_type": "code",
   "execution_count": 125,
   "metadata": {},
   "outputs": [
    {
     "name": "stdout",
     "output_type": "stream",
     "text": [
      "0    50.0\n",
      "Name: f1, dtype: float64\n"
     ]
    },
    {
     "data": {
      "text/plain": [
       "39.17"
      ]
     },
     "execution_count": 125,
     "metadata": {},
     "output_type": "execute_result"
    }
   ],
   "source": [
    "# 해답\n",
    "\n",
    "import pandas as pd\n",
    "import numpy as np\n",
    "from sklearn.preprocessing import power_transform\n",
    "\n",
    "df = pd.read_csv('./data/basic1.csv')\n",
    "\n",
    "df = df[df['age']>=20]\n",
    "\n",
    "print(df['f1'].mode())\n",
    "df['f1'] = df['f1'].fillna(df['f1'].mode()[0])\n",
    "\n",
    "df['y'] = power_transform(df[['f1']], standardize=False) # method 디폴트 값은 여-존슨’yeo-johnson’\n",
    "df['y'].head()\n",
    "\n",
    "df['b'] = power_transform(df[['f1']], method='box-cox', standardize=False)\n",
    "df['b'].head()\n",
    "\n",
    "round(sum(np.abs(df['y'] - df['b'])),2)"
   ]
  },
  {
   "cell_type": "markdown",
   "metadata": {},
   "source": [
    "### ==========================="
   ]
  },
  {
   "cell_type": "code",
   "execution_count": 131,
   "metadata": {},
   "outputs": [
    {
     "name": "stdout",
     "output_type": "stream",
     "text": [
      "     id   age city    f1  f2   f3    f4         f5\n",
      "0  id01   2.0   서울   NaN   0  NaN  ENFJ  91.297791\n",
      "1  id02   9.0   서울  70.0   1  NaN  ENFJ  60.339826\n",
      "2  id03  27.0   서울  61.0   1  NaN  ISTJ  17.252986\n",
      "1.0248740983597389\n"
     ]
    }
   ],
   "source": [
    "# T1-11. min-max scaling / #스케일링 #상하위값\n",
    "# min-max스케일링 기준 상하위 5% 구하기\n",
    "# 주어진 데이터에서 'f5'컬럼을 min-max 스케일 변환한 후, \n",
    "# 상위 5%와 하위 5% 값의 합을 구하시오\n",
    "\n",
    "import pandas as pd\n",
    "\n",
    "df = pd.read_csv('./data/basic1.csv')\n",
    "print(df.head(3))\n",
    "\n",
    "from sklearn.preprocessing import minmax_scale\n",
    "# print(dir(sklearn.preprocessing))\n",
    "\n",
    "df['f5'] = minmax_scale(df['f5'])\n",
    "\n",
    "top = df['f5'].quantile(.05)\n",
    "bottom = df['f5'].quantile(.95)\n",
    "\n",
    "answer = top + bottom\n",
    "print(answer)"
   ]
  },
  {
   "cell_type": "code",
   "execution_count": 133,
   "metadata": {},
   "outputs": [
    {
     "name": "stdout",
     "output_type": "stream",
     "text": [
      "1.0248740983597389\n"
     ]
    }
   ],
   "source": [
    "# 해답\n",
    "\n",
    "import pandas as pd\n",
    "import numpy as np\n",
    "\n",
    "df = pd.read_csv('./data/basic1.csv')\n",
    "\n",
    "from sklearn.preprocessing import MinMaxScaler\n",
    "scaler = MinMaxScaler()\n",
    "df['f5_1'] = scaler.fit_transform(df[['f5']])\n",
    "\n",
    "lower = df['f5_1'].quantile(0.05)\n",
    "# print(lower)\n",
    "\n",
    "upper = df['f5_1'].quantile(0.95)\n",
    "# print(upper)\n",
    "\n",
    "print(lower + upper)"
   ]
  },
  {
   "cell_type": "code",
   "execution_count": null,
   "metadata": {},
   "outputs": [],
   "source": []
  }
 ],
 "metadata": {
  "kernelspec": {
   "display_name": "Python 3.10.4 ('han')",
   "language": "python",
   "name": "python3"
  },
  "language_info": {
   "codemirror_mode": {
    "name": "ipython",
    "version": 3
   },
   "file_extension": ".py",
   "mimetype": "text/x-python",
   "name": "python",
   "nbconvert_exporter": "python",
   "pygments_lexer": "ipython3",
   "version": "3.10.4"
  },
  "orig_nbformat": 4,
  "vscode": {
   "interpreter": {
    "hash": "9ffd841040af6bedd50cabf1584399d13f777232c008d7c4ad470663779a547a"
   }
  }
 },
 "nbformat": 4,
 "nbformat_minor": 2
}
