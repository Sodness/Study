{
 "cells": [
  {
   "cell_type": "code",
   "execution_count": 20,
   "metadata": {},
   "outputs": [
    {
     "name": "stdout",
     "output_type": "stream",
     "text": [
      "88.4\n"
     ]
    }
   ],
   "source": [
    "# T1-12. top10-bottom10 / #그룹핑 #정렬 #상하위값\n",
    "# 주어진 데이터에서 상위 10개 국가의 접종률 평균과 \n",
    "# 하위 10개 국가의 접종률 평균을 구하고, 그 차이를 구해보세요 \n",
    "# (단, 100%가 넘는 접종률 제거, 소수 첫째자리까지 출력)\n",
    "# 풀이\n",
    "\n",
    "import pandas as pd\n",
    "\n",
    "df = pd.read_csv('./data/covid-vaccination-vs-death_ratio.csv', index_col=0)\n",
    "# print(df.head(3))\n",
    "# print(df.info())\n",
    "# print(df.isnull().sum()) # 0\n",
    "# print(df.shape) # (26623, 10)\n",
    "# print(help(pd.read_csv))\n",
    "\n",
    "# print(df[df['country'] == 'Afghanistan'])\n",
    "\n",
    "# print(df.groupby('country').max()['ratio'])\n",
    "df = df.groupby('country').max()['ratio']\n",
    "df = df.sort_values(ascending=False)\n",
    "# print(df.head())\n",
    "\n",
    "df = df[df <= 100]\n",
    "# print(df.head())\n",
    "\n",
    "top = df.head(10).mean()\n",
    "bottom = df.tail(10).mean()\n",
    "# print(top, bottom)\n",
    "\n",
    "answer = round(top - bottom, 1)\n",
    "print(answer)"
   ]
  },
  {
   "cell_type": "code",
   "execution_count": 22,
   "metadata": {},
   "outputs": [
    {
     "name": "stdout",
     "output_type": "stream",
     "text": [
      "88.4\n"
     ]
    }
   ],
   "source": [
    "# 해답\n",
    "\n",
    "import pandas as pd\n",
    "\n",
    "df = pd.read_csv('./data/covid-vaccination-vs-death_ratio.csv', index_col=0)\n",
    "\n",
    "df2 = df.groupby('country').max() #시간에 따라 접종률이 점점 올라감\n",
    "df2 = df2.sort_values(by='ratio', ascending = False)\n",
    "# print(df2['ratio'].head())\n",
    "# print(df2.head())\n",
    "\n",
    "df2 = df2[1:] #이상치 제거\n",
    "# print(df2['ratio'].head())\n",
    "\n",
    "top = df2['ratio'].head(10).mean()\n",
    "bottom = df2['ratio'].tail(10).mean()\n",
    "\n",
    "print(round(top - bottom,1))\n",
    "# 결과값은 데이터 업데이트에 따라 달라질 수 있음"
   ]
  },
  {
   "cell_type": "markdown",
   "metadata": {},
   "source": [
    "### ========================"
   ]
  },
  {
   "cell_type": "code",
   "execution_count": 40,
   "metadata": {},
   "outputs": [
    {
     "name": "stdout",
     "output_type": "stream",
     "text": [
      "alcohol                 0.476166\n",
      "sulphates               0.251397\n",
      "citric acid             0.226373\n",
      "fixed acidity           0.124052\n",
      "residual sugar          0.013732\n",
      "free sulfur dioxide    -0.050656\n",
      "pH                     -0.057731\n",
      "chlorides              -0.128907\n",
      "density                -0.174919\n",
      "total sulfur dioxide   -0.185100\n",
      "volatile acidity       -0.390558\n",
      "Name: quality, dtype: float64\n",
      "0.47616632400113656\n",
      "-0.390557780264006\n",
      "0.87\n"
     ]
    }
   ],
   "source": [
    "# T1-13. Correlation / #상관관계\n",
    "# 주어진 데이터에서 상관관계를 구하고, quality와의 상관관계가 가장 큰 값과, \n",
    "# 가장 작은 값을 구한 다음 더하시오!\n",
    "# 단, quality와 quality 상관관계 제외, 소수점 둘째 자리까지 출력\n",
    "# 풀이\n",
    "\n",
    "df = pd.read_csv('./data/winequality-red.csv')\n",
    "# print(df.head(3))\n",
    "# print(df.info())\n",
    "# print(df.isnull().sum()) # 0\n",
    "# print(df.shape) # (1599, 12)\n",
    "\n",
    "# print(df.corr()['quality'])\n",
    "df = df.corr()['quality']\n",
    "df = df[:-1]\n",
    "# print(df)\n",
    "\n",
    "df = df.sort_values(ascending=False)\n",
    "print(df)\n",
    "print(df[0])\n",
    "print(df[-1])\n",
    "\n",
    "top = abs(df[0])\n",
    "bottom = abs(df[-1])\n",
    "\n",
    "answer = round(top + bottom, 2)\n",
    "print(answer)"
   ]
  },
  {
   "cell_type": "code",
   "execution_count": 41,
   "metadata": {},
   "outputs": [
    {
     "name": "stdout",
     "output_type": "stream",
     "text": [
      "0.49\n"
     ]
    }
   ],
   "source": [
    "# 해답\n",
    "\n",
    "import pandas as pd\n",
    "import numpy as np\n",
    "\n",
    "df = pd.read_csv('./data/winequality-red.csv')\n",
    "\n",
    "max_corr=abs(df.corr()['quality'][:-1]).max()  #0.47\n",
    "min_corr=abs(df.corr()['quality'][:-1]).min()   #0.013\n",
    "\n",
    "if max_corr not in df.corr()[['quality']][:-1].values:\n",
    "    max_corr=-max_corr\n",
    "if min_corr not in df.corr()[['quality']][:-1].values:\n",
    "    min_corr=-min_corr\n",
    "    \n",
    "# 결과 출력\n",
    "ans=round(max_corr+min_corr,2)\n",
    "print(ans) "
   ]
  },
  {
   "cell_type": "code",
   "execution_count": 53,
   "metadata": {},
   "outputs": [
    {
     "name": "stdout",
     "output_type": "stream",
     "text": [
      "0.49\n"
     ]
    }
   ],
   "source": [
    "# 풀이 수정\n",
    "\n",
    "df = pd.read_csv('./data/winequality-red.csv')\n",
    "# print(df.head(3))\n",
    "# print(df.info())\n",
    "# print(df.isnull().sum()) # 0\n",
    "# print(df.shape) # (1599, 12)\n",
    "\n",
    "# print(df.corr()['quality'])\n",
    "df = df.corr()['quality']\n",
    "df = df[:-1]\n",
    "# print(df)\n",
    "\n",
    "df = df.sort_values(ascending=False)\n",
    "# print(df)\n",
    "# print(df[0])\n",
    "# print(df[-1])\n",
    "\n",
    "# print(abs(df))\n",
    "df2 = abs(df)\n",
    "df2 = df2.sort_values(ascending=False)\n",
    "# print(df2)\n",
    "\n",
    "top = df2[0]\n",
    "bottom = df2[-1]\n",
    "# print(top, bottom)\n",
    "\n",
    "if top not in df.values:\n",
    "    print('yes')\n",
    "    top = -top\n",
    "if bottom not in df.values:\n",
    "    print('yes')\n",
    "    bottom = -bottom\n",
    "\n",
    "answer = round(top + bottom, 2)\n",
    "print(answer)"
   ]
  },
  {
   "cell_type": "markdown",
   "metadata": {},
   "source": [
    "### ========================"
   ]
  },
  {
   "cell_type": "code",
   "execution_count": 60,
   "metadata": {},
   "outputs": [
    {
     "name": "stdout",
     "output_type": "stream",
     "text": [
      "643.68\n"
     ]
    }
   ],
   "source": [
    "# T1-14. Multi Index & Groupby / #멀티인덱스 #정렬 #인덱스리셋 #상위값\n",
    "# city와 f4를 기준으로 f5의 평균값을 구한 다음, \n",
    "# f5를 기준으로 상위 7개 값을 모두 더해 출력하시오 (소수점 둘째자리까지 출력)\n",
    "# 풀이\n",
    "\n",
    "import pandas as pd\n",
    "\n",
    "df = pd.read_csv('./data/basic1.csv')\n",
    "# print(df.head())\n",
    "# print(df.isnull().sum()) # f1(31), f3(95)\n",
    "# print(df.shape) # (100, 8)\n",
    "\n",
    "# print(df.groupby(['city', 'f4']).mean()['f5'])\n",
    "df = df.groupby(['city', 'f4']).mean()['f5']\n",
    "df = df.sort_values(ascending=False)\n",
    "# print(df[:7])\n",
    "# print(sum(df[:7]))\n",
    "\n",
    "answer = sum(df[:7])\n",
    "answer = round(answer, 2)\n",
    "print(answer)"
   ]
  },
  {
   "cell_type": "markdown",
   "metadata": {},
   "source": [
    "### ========================"
   ]
  },
  {
   "cell_type": "code",
   "execution_count": 64,
   "metadata": {},
   "outputs": [
    {
     "name": "stdout",
     "output_type": "stream",
     "text": [
      "73.875\n"
     ]
    }
   ],
   "source": [
    "# T1-15. Slicing & Condition / #슬라이싱 #결측치 #중앙값 #조건\n",
    "# 주어진 데이터 셋에서 age컬럼 상위 20개의 데이터를 구한 다음 \n",
    "# f1의 결측치를 중앙값으로 채운다.\n",
    "# 그리고 f4가 ISFJ와 f5가 20 이상인 \n",
    "# f1의 평균값을 출력하시오!\n",
    "# 풀이\n",
    "\n",
    "import pandas as pd\n",
    "\n",
    "df = pd.read_csv('./data/basic1.csv')\n",
    "# print(df.head(3))\n",
    "# print(df.isnull().sum()) # f1(31) f3(95)\n",
    "# print(df.shape) # (100, 8)\n",
    "\n",
    "df = df.sort_values('age', ascending=False)\n",
    "# print(df.head())\n",
    "\n",
    "df = df[:20]\n",
    "# print(df.shape)\n",
    "\n",
    "df['f1'] = df['f1'].fillna(df['f1'].median())\n",
    "# print(df.isnull().sum())\n",
    "\n",
    "cond1 = df['f4'] == 'ISFJ'\n",
    "cond2 = df['f5'] >= 20\n",
    "answer = df[cond1 & cond2]['f1'].mean()\n",
    "print(answer)"
   ]
  },
  {
   "cell_type": "markdown",
   "metadata": {},
   "source": [
    "### ========================"
   ]
  },
  {
   "cell_type": "code",
   "execution_count": 70,
   "metadata": {},
   "outputs": [
    {
     "name": "stdout",
     "output_type": "stream",
     "text": [
      "38.44\n"
     ]
    }
   ],
   "source": [
    "# T1-16. Variance / #분산 #결측치전후값차이\n",
    "# 주어진 데이터 셋에서 f2가 0값인 데이터를 age를 기준으로 오름차순 정렬하고\n",
    "# 앞에서 부터 20개의 데이터를 추출한 후 \n",
    "# f1 결측치(최소값)를 채우기 전과 후의 분산 차이를 계산하시오 (소수점 둘째 자리까지)\n",
    "# 풀이\n",
    "\n",
    "import pandas as pd\n",
    "\n",
    "df = pd.read_csv('./data/basic1.csv')\n",
    "# print(df.head(3))\n",
    "# print(df.isnull().sum()) # f1(31), f3(95)\n",
    "# print(df.shape) # (100, 8)\n",
    "\n",
    "df = df[df['f2'] == 0]\n",
    "# print(df.head())\n",
    "\n",
    "df = df.sort_values('age', ascending=True)\n",
    "# print(df.head())\n",
    "\n",
    "df = df[:20]\n",
    "\n",
    "var1 = df['f1'].var()\n",
    "\n",
    "df['f1'] = df['f1'].fillna(df['f1'].min())\n",
    "var2 = df['f1'].var()\n",
    "# print(var1, var2)\n",
    "\n",
    "answer = round(var1 - var2, 2)\n",
    "print(answer)"
   ]
  },
  {
   "cell_type": "code",
   "execution_count": null,
   "metadata": {},
   "outputs": [],
   "source": []
  }
 ],
 "metadata": {
  "kernelspec": {
   "display_name": "Python 3.10.4 ('han')",
   "language": "python",
   "name": "python3"
  },
  "language_info": {
   "codemirror_mode": {
    "name": "ipython",
    "version": 3
   },
   "file_extension": ".py",
   "mimetype": "text/x-python",
   "name": "python",
   "nbconvert_exporter": "python",
   "pygments_lexer": "ipython3",
   "version": "3.10.4"
  },
  "orig_nbformat": 4,
  "vscode": {
   "interpreter": {
    "hash": "9ffd841040af6bedd50cabf1584399d13f777232c008d7c4ad470663779a547a"
   }
  }
 },
 "nbformat": 4,
 "nbformat_minor": 2
}
