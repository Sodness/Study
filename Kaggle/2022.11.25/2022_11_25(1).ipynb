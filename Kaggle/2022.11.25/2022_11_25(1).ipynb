{
 "cells": [
  {
   "cell_type": "code",
   "execution_count": 28,
   "metadata": {},
   "outputs": [
    {
     "name": "stdout",
     "output_type": "stream",
     "text": [
      "0.5\n"
     ]
    }
   ],
   "source": [
    "# T1-23. Drop Duplicates / #중복제거 #결측치 #10번째값으로채움\n",
    "# f1의 결측치를 채운 후 age 컬럼의 중복 제거 전과 후의 'f1' 중앙값 차이를 구하시오\n",
    "# - 결측치는 f1의 데이터 중 내림차순 정렬 후 10번째 값으로 채움\n",
    "# - 중복 데이터 발생시 뒤에 나오는 데이터를 삭제함\n",
    "# - 최종 결과값은 절대값으로 출력\n",
    "# 풀이\n",
    "\n",
    "import pandas as pd\n",
    "\n",
    "df = pd.read_csv('./data/basic1.csv')\n",
    "# print(df.head(3))\n",
    "# print(df.isnull().sum()) # f1(31), f3(95)\n",
    "# print(df.shape) # (100, 8)\n",
    "\n",
    "df = df.sort_values('f1', ascending=False)\n",
    "# print(df.head(3))\n",
    "# print(df.iloc[:10])\n",
    "# print(df.iloc[9]['f1'])\n",
    "\n",
    "df['f1'] = df['f1'].fillna(df.iloc[9]['f1'])\n",
    "# print(df.isnull().sum())\n",
    "\n",
    "m1 = df['f1'].median()\n",
    "\n",
    "# df['age'].fillna()\n",
    "# print(dir(df['age']))\n",
    "# print(help(df['age'].drop_duplicates))\n",
    "# print(df['age'].shape)\n",
    "idx = df['age'].drop_duplicates(keep='first').index\n",
    "m2 = df.iloc[idx]['f1'].median()\n",
    "\n",
    "answer = abs(m1 - m2)\n",
    "print(answer)"
   ]
  },
  {
   "cell_type": "code",
   "execution_count": 29,
   "metadata": {},
   "outputs": [
    {
     "name": "stdout",
     "output_type": "stream",
     "text": [
      "0.5\n"
     ]
    }
   ],
   "source": [
    "# 해답\n",
    "\n",
    "import pandas as pd\n",
    "\n",
    "df = pd.read_csv('./data/basic1.csv')\n",
    "\n",
    "top10 = df['f1'].sort_values(ascending=False).iloc[9]\n",
    "# print(top10)\n",
    "df['f1'] = df['f1'].fillna(top10)\n",
    "\n",
    "result1 = df['f1'].median()\n",
    "\n",
    "df = df.drop_duplicates(subset=['age'])\n",
    "\n",
    "result2 = df['f1'].median()\n",
    "\n",
    "print(abs(result1 - result2))"
   ]
  },
  {
   "cell_type": "markdown",
   "metadata": {},
   "source": [
    "### =============================="
   ]
  },
  {
   "cell_type": "code",
   "execution_count": 38,
   "metadata": {},
   "outputs": [
    {
     "name": "stdout",
     "output_type": "stream",
     "text": [
      "         Date     Sales      PV      UV  Events\n",
      "0  2022-01-01  22711525  397349  4421.0       1\n",
      "1  2022-01-02     36779    3969  2289.0       0\n",
      "2  2022-01-03  13943875  373890     NaN       1\n",
      "1894876.0\n"
     ]
    },
    {
     "name": "stderr",
     "output_type": "stream",
     "text": [
      "C:\\Users\\user\\AppData\\Local\\Temp\\ipykernel_1848\\3380501961.py:18: SettingWithCopyWarning: \n",
      "A value is trying to be set on a copy of a slice from a DataFrame\n",
      "\n",
      "See the caveats in the documentation: https://pandas.pydata.org/pandas-docs/stable/user_guide/indexing.html#returning-a-view-versus-a-copy\n",
      "  df['PV1'][1:] = df['PV1'][:len(df)-1]\n"
     ]
    }
   ],
   "source": [
    "# T1-24. Time-Series5 (Lagged Feature) / #시차데이터 #조건\n",
    "# 주어진 데이터(basic2.csv)에서 \"pv\"컬럼으로 1일 시차(lag)가 있는 \n",
    "# 새로운 컬럼을 만들고(예: 1월 2일에는 1월 1일 pv데이터를 넣고, \n",
    "# 1월 3일에는 1월 2일 pv데이터를 넣음),새로운 컬럼의 1월 1일은 다음날(1월 2일)\n",
    "# 데이터로 결측치를 채운 다음, Events가 1이면서 Sales가 1000000이하인 \n",
    "# 조건에 맞는 새로운 컬럼 합을 구하시오\n",
    "# 풀이\n",
    "\n",
    "import pandas as pd\n",
    "\n",
    "df = pd.read_csv('./data/basic2.csv')\n",
    "print(df.head(3))\n",
    "# print(df.isnull().sum()) # UV(46)\n",
    "# print(df.shape) # (730, 5)\n",
    "\n",
    "df['PV1'] = df['PV'][:len(df)-1]\n",
    "# print(df.tail())\n",
    "df['PV1'][1:] = df['PV1'][:len(df)-1]\n",
    "# print(df.head())\n",
    "\n",
    "df = df[(df['Events'] == 1) & (df['Sales'] <= 1000000)]\n",
    "answer = df['PV1'].sum()\n",
    "print(answer)"
   ]
  },
  {
   "cell_type": "code",
   "execution_count": 39,
   "metadata": {},
   "outputs": [
    {
     "name": "stdout",
     "output_type": "stream",
     "text": [
      "1894876.0\n"
     ]
    }
   ],
   "source": [
    "# 해답\n",
    "\n",
    "import pandas as pd\n",
    "\n",
    "df = pd.read_csv('./data/basic2.csv')\n",
    "\n",
    "df['previous_PV'] = df['PV'].shift(1)\n",
    "\n",
    "df['previous_PV'] = df['previous_PV'].fillna(method = 'bfill')\n",
    "# df.head()\n",
    "\n",
    "cond = (df['Events'] == 1) & (df['Sales'] <= 1000000)\n",
    "print(df[cond]['previous_PV'].sum())"
   ]
  },
  {
   "cell_type": "markdown",
   "metadata": {},
   "source": [
    "### =============================="
   ]
  },
  {
   "cell_type": "code",
   "execution_count": 50,
   "metadata": {},
   "outputs": [
    {
     "name": "stdout",
     "output_type": "stream",
     "text": [
      "0\n"
     ]
    }
   ],
   "source": [
    "# T1-25. 성격유형 E형 찾기 / #문자 슬라이싱\n",
    "# basic1 데이터에서 f4가 E로 시작하면서 부산에 살고 20대인 사람은 몇 명일까요?\n",
    "# 풀이\n",
    "\n",
    "import pandas as pd\n",
    "\n",
    "df = pd.read_csv('./data/basic1.csv')\n",
    "# print(df.head(3))\n",
    "# print(df.isnull().sum()) # f1(31), f3(95)\n",
    "# print(df.shape) # (100, 8)\n",
    "\n",
    "# print(dir(df['f4']))\n",
    "ls = []\n",
    "for i in list(df['f4']):\n",
    "    ls.append(i[:1])\n",
    "# print(ls)\n",
    "\n",
    "df['f4_1'] = ls\n",
    "# print(df.head())\n",
    "\n",
    "cond1 = df['f4_1'] == 'E'\n",
    "cond2 = df['city'] == '부산'\n",
    "cond3 = df['age'] >= 20\n",
    "cond4 = df['age'] < 30\n",
    "\n",
    "# print(df[cond1 & cond2 & cond3 & cond4])\n",
    "# print(df[cond1 & cond2])\n",
    "\n",
    "answer = len(df[cond1 & cond2 & cond3 & cond4])\n",
    "print(answer)"
   ]
  },
  {
   "cell_type": "code",
   "execution_count": 51,
   "metadata": {},
   "outputs": [
    {
     "name": "stdout",
     "output_type": "stream",
     "text": [
      "0\n"
     ]
    }
   ],
   "source": [
    "# 해답\n",
    "\n",
    "import pandas as pd\n",
    "\n",
    "df = pd.read_csv('./data/basic1.csv')\n",
    "\n",
    "df['EI'] = df['f4'].str[:1]\n",
    "cond1 = df['EI'] == \"E\"\n",
    "cond2 = df['city'] == \"부산\"\n",
    "cond3 = (df['age'] >= 20) & (df['age'] < 30)\n",
    "\n",
    "print(len(df[cond1 & cond2 & cond3]))"
   ]
  },
  {
   "cell_type": "markdown",
   "metadata": {},
   "source": [
    "### =============================="
   ]
  },
  {
   "cell_type": "code",
   "execution_count": 68,
   "metadata": {},
   "outputs": [
    {
     "name": "stdout",
     "output_type": "stream",
     "text": [
      "PassengerId      0\n",
      "Pclass           0\n",
      "Name             0\n",
      "Sex              0\n",
      "Age             86\n",
      "SibSp            0\n",
      "Parch            0\n",
      "Ticket           0\n",
      "Fare             1\n",
      "Cabin          327\n",
      "Embarked         0\n",
      "dtype: int64\n",
      "PassengerId    0\n",
      "Survived       0\n",
      "Pclass         0\n",
      "Name           0\n",
      "Sex            0\n",
      "Age            0\n",
      "SibSp          0\n",
      "Parch          0\n",
      "Ticket         0\n",
      "Fare           0\n",
      "Embarked       0\n",
      "dtype: int64\n"
     ]
    }
   ],
   "source": [
    "# T2-1. Titanic (Classification) / 타이타닉\n",
    "# 학습용 데이터 (X_train, y_train)을 이용하여 생존 예측 모형을 만든 후, \n",
    "# 이를 평가용 데이터(X_test)에 적용하여 얻은 예측값을 다음과 같은 형식의 \n",
    "# CSV파일로 생성하시오(제출한 모델의 성능은 accuracy 평가지표에 따라 채점)\n",
    "# 풀이\n",
    "\n",
    "import pandas as pd\n",
    "\n",
    "train = pd.read_csv('./data/titanic_train.csv')\n",
    "test = pd.read_csv('./data/titanic_test.csv')\n",
    "\n",
    "# print(train.head(3))\n",
    "# print(train.isnull().sum()) # Age(177), Cabin(687), Embarked(2)\n",
    "# print(train.shape) # (891, 12)\n",
    "\n",
    "# print(test.head(3))\n",
    "print(test.isnull().sum())\n",
    "# print(test.shape) # (418, 11), survived 없음\n",
    "\n",
    "# EDA (train, test)\n",
    "\n",
    "\n",
    "# 결측치 처리\n",
    "train['Age'] = train['Age'].fillna(train['Age'].mean())\n",
    "train = train.drop(columns='Cabin')\n",
    "# print(train['Embarked'].value_counts())\n",
    "# print(train['Embarked'].mode())\n",
    "train['Embarked'] = train['Embarked'].fillna(train['Embarked'].mode()[0])\n",
    "# print(help(train['Age'].mode))\n",
    "print(train.isnull().sum())\n",
    "\n",
    "# 스케일링\n",
    "# 모델 만들기\n",
    "# 모델 fit\n",
    "# predict\n",
    "# 제출"
   ]
  },
  {
   "cell_type": "code",
   "execution_count": null,
   "metadata": {},
   "outputs": [],
   "source": []
  }
 ],
 "metadata": {
  "kernelspec": {
   "display_name": "Python 3.10.4 ('han')",
   "language": "python",
   "name": "python3"
  },
  "language_info": {
   "codemirror_mode": {
    "name": "ipython",
    "version": 3
   },
   "file_extension": ".py",
   "mimetype": "text/x-python",
   "name": "python",
   "nbconvert_exporter": "python",
   "pygments_lexer": "ipython3",
   "version": "3.10.4"
  },
  "orig_nbformat": 4,
  "vscode": {
   "interpreter": {
    "hash": "9ffd841040af6bedd50cabf1584399d13f777232c008d7c4ad470663779a547a"
   }
  }
 },
 "nbformat": 4,
 "nbformat_minor": 2
}
