{
 "cells": [
  {
   "cell_type": "code",
   "execution_count": 15,
   "metadata": {},
   "outputs": [
    {
     "data": {
      "text/html": [
       "<div>\n",
       "<style scoped>\n",
       "    .dataframe tbody tr th:only-of-type {\n",
       "        vertical-align: middle;\n",
       "    }\n",
       "\n",
       "    .dataframe tbody tr th {\n",
       "        vertical-align: top;\n",
       "    }\n",
       "\n",
       "    .dataframe thead th {\n",
       "        text-align: right;\n",
       "    }\n",
       "</style>\n",
       "<table border=\"1\" class=\"dataframe\">\n",
       "  <thead>\n",
       "    <tr style=\"text-align: right;\">\n",
       "      <th></th>\n",
       "      <th>id</th>\n",
       "      <th>age</th>\n",
       "      <th>city</th>\n",
       "      <th>f1</th>\n",
       "      <th>f2</th>\n",
       "      <th>f3</th>\n",
       "      <th>f4</th>\n",
       "      <th>f5</th>\n",
       "    </tr>\n",
       "  </thead>\n",
       "  <tbody>\n",
       "    <tr>\n",
       "      <th>0</th>\n",
       "      <td>id01</td>\n",
       "      <td>2.0</td>\n",
       "      <td>서울</td>\n",
       "      <td>NaN</td>\n",
       "      <td>0</td>\n",
       "      <td>NaN</td>\n",
       "      <td>ENFJ</td>\n",
       "      <td>91.297791</td>\n",
       "    </tr>\n",
       "    <tr>\n",
       "      <th>1</th>\n",
       "      <td>id02</td>\n",
       "      <td>9.0</td>\n",
       "      <td>서울</td>\n",
       "      <td>70.0</td>\n",
       "      <td>1</td>\n",
       "      <td>NaN</td>\n",
       "      <td>ENFJ</td>\n",
       "      <td>60.339826</td>\n",
       "    </tr>\n",
       "    <tr>\n",
       "      <th>2</th>\n",
       "      <td>id03</td>\n",
       "      <td>27.0</td>\n",
       "      <td>서울</td>\n",
       "      <td>61.0</td>\n",
       "      <td>1</td>\n",
       "      <td>NaN</td>\n",
       "      <td>ISTJ</td>\n",
       "      <td>17.252986</td>\n",
       "    </tr>\n",
       "  </tbody>\n",
       "</table>\n",
       "</div>"
      ],
      "text/plain": [
       "     id   age city    f1  f2   f3    f4         f5\n",
       "0  id01   2.0   서울   NaN   0  NaN  ENFJ  91.297791\n",
       "1  id02   9.0   서울  70.0   1  NaN  ENFJ  60.339826\n",
       "2  id03  27.0   서울  61.0   1  NaN  ISTJ  17.252986"
      ]
     },
     "metadata": {},
     "output_type": "display_data"
    },
    {
     "name": "stdout",
     "output_type": "stream",
     "text": [
      "643.68\n"
     ]
    }
   ],
   "source": [
    "# T1-14. Multi Index & Groupby / #멀티인덱스 #정렬 #인덱스리셋 #상위값\n",
    "# # city와 f4를 기준으로 f5의 평균값을 구한 다음, \n",
    "# f5를 기준으로 상위 7개 값을 모두 더해 출력하시오 (소수점 둘째자리까지 출력)\n",
    "# 풀이\n",
    "\n",
    "import pandas as pd\n",
    "import numpy as np\n",
    "\n",
    "df = pd.read_csv('./data/basic1.csv')\n",
    "display(df.head(3))\n",
    "# print(df.info())\n",
    "# print(df.isnull().sum())\n",
    "# print(df.shape)\n",
    "\n",
    "df2 = df.groupby(['city','f4']).mean()\n",
    "df2 = df2['f5'].sort_values(ascending=False)\n",
    "# display(df2)\n",
    "\n",
    "# display(df2[:7])\n",
    "answer = sum(df2[:7])\n",
    "answer = round(answer, 2)\n",
    "print(answer)"
   ]
  },
  {
   "cell_type": "code",
   "execution_count": 21,
   "metadata": {},
   "outputs": [
    {
     "data": {
      "text/html": [
       "<div>\n",
       "<style scoped>\n",
       "    .dataframe tbody tr th:only-of-type {\n",
       "        vertical-align: middle;\n",
       "    }\n",
       "\n",
       "    .dataframe tbody tr th {\n",
       "        vertical-align: top;\n",
       "    }\n",
       "\n",
       "    .dataframe thead th {\n",
       "        text-align: right;\n",
       "    }\n",
       "</style>\n",
       "<table border=\"1\" class=\"dataframe\">\n",
       "  <thead>\n",
       "    <tr style=\"text-align: right;\">\n",
       "      <th></th>\n",
       "      <th>city</th>\n",
       "      <th>f4</th>\n",
       "      <th>f5</th>\n",
       "    </tr>\n",
       "  </thead>\n",
       "  <tbody>\n",
       "    <tr>\n",
       "      <th>36</th>\n",
       "      <td>서울</td>\n",
       "      <td>ENFP</td>\n",
       "      <td>98.429899</td>\n",
       "    </tr>\n",
       "    <tr>\n",
       "      <th>2</th>\n",
       "      <td>경기</td>\n",
       "      <td>ESFJ</td>\n",
       "      <td>97.381034</td>\n",
       "    </tr>\n",
       "    <tr>\n",
       "      <th>44</th>\n",
       "      <td>서울</td>\n",
       "      <td>INTJ</td>\n",
       "      <td>91.297791</td>\n",
       "    </tr>\n",
       "    <tr>\n",
       "      <th>41</th>\n",
       "      <td>서울</td>\n",
       "      <td>ESTP</td>\n",
       "      <td>91.297791</td>\n",
       "    </tr>\n",
       "    <tr>\n",
       "      <th>47</th>\n",
       "      <td>서울</td>\n",
       "      <td>ISFP</td>\n",
       "      <td>91.057640</td>\n",
       "    </tr>\n",
       "    <tr>\n",
       "      <th>7</th>\n",
       "      <td>경기</td>\n",
       "      <td>INFP</td>\n",
       "      <td>90.531801</td>\n",
       "    </tr>\n",
       "    <tr>\n",
       "      <th>42</th>\n",
       "      <td>서울</td>\n",
       "      <td>INFJ</td>\n",
       "      <td>83.685380</td>\n",
       "    </tr>\n",
       "  </tbody>\n",
       "</table>\n",
       "</div>"
      ],
      "text/plain": [
       "   city    f4         f5\n",
       "36   서울  ENFP  98.429899\n",
       "2    경기  ESFJ  97.381034\n",
       "44   서울  INTJ  91.297791\n",
       "41   서울  ESTP  91.297791\n",
       "47   서울  ISFP  91.057640\n",
       "7    경기  INFP  90.531801\n",
       "42   서울  INFJ  83.685380"
      ]
     },
     "metadata": {},
     "output_type": "display_data"
    },
    {
     "name": "stdout",
     "output_type": "stream",
     "text": [
      "643.68\n"
     ]
    }
   ],
   "source": [
    "# 해답\n",
    "\n",
    "import pandas as pd\n",
    "\n",
    "df = pd.read_csv('./data/basic1.csv')\n",
    "\n",
    "df = df.groupby(['city', 'f4'])[['f5']].mean()\n",
    "\n",
    "# display(df.reset_index())\n",
    "df = df.reset_index().sort_values('f5', ascending=False).head(7)\n",
    "display(df)\n",
    "\n",
    "answer = round(df['f5'].sum(), 2)\n",
    "print(answer)"
   ]
  },
  {
   "cell_type": "markdown",
   "metadata": {},
   "source": [
    "## ------------------------------------"
   ]
  },
  {
   "cell_type": "code",
   "execution_count": 27,
   "metadata": {},
   "outputs": [
    {
     "data": {
      "text/html": [
       "<div>\n",
       "<style scoped>\n",
       "    .dataframe tbody tr th:only-of-type {\n",
       "        vertical-align: middle;\n",
       "    }\n",
       "\n",
       "    .dataframe tbody tr th {\n",
       "        vertical-align: top;\n",
       "    }\n",
       "\n",
       "    .dataframe thead th {\n",
       "        text-align: right;\n",
       "    }\n",
       "</style>\n",
       "<table border=\"1\" class=\"dataframe\">\n",
       "  <thead>\n",
       "    <tr style=\"text-align: right;\">\n",
       "      <th></th>\n",
       "      <th>id</th>\n",
       "      <th>age</th>\n",
       "      <th>city</th>\n",
       "      <th>f1</th>\n",
       "      <th>f2</th>\n",
       "      <th>f3</th>\n",
       "      <th>f4</th>\n",
       "      <th>f5</th>\n",
       "    </tr>\n",
       "  </thead>\n",
       "  <tbody>\n",
       "    <tr>\n",
       "      <th>0</th>\n",
       "      <td>id01</td>\n",
       "      <td>2.0</td>\n",
       "      <td>서울</td>\n",
       "      <td>NaN</td>\n",
       "      <td>0</td>\n",
       "      <td>NaN</td>\n",
       "      <td>ENFJ</td>\n",
       "      <td>91.297791</td>\n",
       "    </tr>\n",
       "    <tr>\n",
       "      <th>1</th>\n",
       "      <td>id02</td>\n",
       "      <td>9.0</td>\n",
       "      <td>서울</td>\n",
       "      <td>70.0</td>\n",
       "      <td>1</td>\n",
       "      <td>NaN</td>\n",
       "      <td>ENFJ</td>\n",
       "      <td>60.339826</td>\n",
       "    </tr>\n",
       "    <tr>\n",
       "      <th>2</th>\n",
       "      <td>id03</td>\n",
       "      <td>27.0</td>\n",
       "      <td>서울</td>\n",
       "      <td>61.0</td>\n",
       "      <td>1</td>\n",
       "      <td>NaN</td>\n",
       "      <td>ISTJ</td>\n",
       "      <td>17.252986</td>\n",
       "    </tr>\n",
       "  </tbody>\n",
       "</table>\n",
       "</div>"
      ],
      "text/plain": [
       "     id   age city    f1  f2   f3    f4         f5\n",
       "0  id01   2.0   서울   NaN   0  NaN  ENFJ  91.297791\n",
       "1  id02   9.0   서울  70.0   1  NaN  ENFJ  60.339826\n",
       "2  id03  27.0   서울  61.0   1  NaN  ISTJ  17.252986"
      ]
     },
     "metadata": {},
     "output_type": "display_data"
    },
    {
     "name": "stdout",
     "output_type": "stream",
     "text": [
      "73.875\n"
     ]
    }
   ],
   "source": [
    "# T1-15. Slicing & Condition / #슬라이싱 #결측치 #중앙값 #조건\n",
    "# 주어진 데이터 셋에서 age컬럼 상위 20개의 데이터를 구한 다음 \n",
    "# f1의 결측치를 중앙값으로 채운다.\n",
    "# 그리고 f4가 ISFJ와 f5가 20 이상인 \n",
    "# f1의 평균값을 출력하시오!\n",
    "# 풀이\n",
    "\n",
    "import pandas as pd\n",
    "import numpy as np\n",
    "\n",
    "df = pd.read_csv('./data/basic1.csv')\n",
    "display(df.head(3))\n",
    "# print(df.info())\n",
    "# print(df.isnull().sum())\n",
    "# print(df.shape)\n",
    "\n",
    "df = df.sort_values('age', ascending=False)\n",
    "df = df.head(20)\n",
    "\n",
    "df['f1'] = df['f1'].fillna(df['f1'].median())\n",
    "\n",
    "answer = df[(df['f4']=='ISFJ') & (df['f5']>=20)]['f1'].mean()\n",
    "print(answer)"
   ]
  },
  {
   "cell_type": "code",
   "execution_count": 31,
   "metadata": {},
   "outputs": [
    {
     "name": "stdout",
     "output_type": "stream",
     "text": [
      "73.875\n"
     ]
    }
   ],
   "source": [
    "# 해답\n",
    "\n",
    "import pandas as pd\n",
    "\n",
    "df = pd.read_csv('./data/basic1.csv')\n",
    "\n",
    "df = df.sort_values('age', ascending=False).reset_index(drop=True)\n",
    "# print(df)\n",
    "\n",
    "df = df[:20]\n",
    "# print(df)\n",
    "\n",
    "df['f1'] = df['f1'].fillna(df['f1'].median())\n",
    "\n",
    "cond = (df['f4']=='ISFJ') & (df['f5']>=20)\n",
    "\n",
    "answer = df[cond]['f1'].mean()\n",
    "print(answer)"
   ]
  },
  {
   "cell_type": "markdown",
   "metadata": {},
   "source": [
    "## -------------------------------"
   ]
  },
  {
   "cell_type": "code",
   "execution_count": 37,
   "metadata": {},
   "outputs": [
    {
     "name": "stdout",
     "output_type": "stream",
     "text": [
      "     id   age city    f1  f2   f3    f4         f5\n",
      "0  id01   2.0   서울   NaN   0  NaN  ENFJ  91.297791\n",
      "1  id02   9.0   서울  70.0   1  NaN  ENFJ  60.339826\n",
      "2  id03  27.0   서울  61.0   1  NaN  ISTJ  17.252986\n",
      "-5.8\n"
     ]
    }
   ],
   "source": [
    "# T1-16. Variance / #분산 #결측치전후값차이\n",
    "# 주어진 데이터 셋에서 f2가 0값인 데이터를 age를 기준으로 오름차순 정렬하고\n",
    "# 앞에서 부터 20개의 데이터를 추출한 후 \n",
    "# f1 결측치(최소값)를 채우기 전과 후의 분산 차이를 계산하시오 (소수점 둘째 자리까지)\n",
    "# 풀이\n",
    "\n",
    "import pandas as pd\n",
    "import numpy as np\n",
    "\n",
    "df = pd.read_csv('./data/basic1.csv')\n",
    "print(df.head(3))\n",
    "# print(df.info())\n",
    "# print(df.isnull().sum())\n",
    "# print(df.shape)\n",
    "\n",
    "df = df[df['f2']==0].sort_values('age', ascending=False)\n",
    "# print(df)\n",
    "\n",
    "df = df.head(20)\n",
    "# print(df)\n",
    "\n",
    "std1 = df['f1'].std()\n",
    "\n",
    "df['f1'] = df['f1'].fillna(df['f1'].min())\n",
    "std2 = df['f1'].std()\n",
    "\n",
    "answer = std1 - std2\n",
    "answer = round(answer, 2)\n",
    "print(answer)"
   ]
  },
  {
   "cell_type": "code",
   "execution_count": 38,
   "metadata": {},
   "outputs": [
    {
     "name": "stdout",
     "output_type": "stream",
     "text": [
      "38.44\n"
     ]
    }
   ],
   "source": [
    "# 해답\n",
    "# ascending = True (오름차순)\n",
    "# ascending = False (내림차순)\n",
    "# 분산(variance) = var()\n",
    "# 표준편차(standard deviation) = std()\n",
    "\n",
    "import pandas as pd\n",
    "\n",
    "df = pd.read_csv('./data/basic1.csv')\n",
    "\n",
    "cond = (df['f2']==0)\n",
    "df = df[cond].sort_values('age', ascending=True).reset_index(drop=True)\n",
    "\n",
    "df = df[:20]\n",
    "\n",
    "var1 = df['f1'].var()\n",
    "df['f1'] = df['f1'].fillna(df['f1'].min())\n",
    "var2 = df['f1'].var()\n",
    "\n",
    "answer = round(var1 - var2, 2)\n",
    "print(answer)"
   ]
  },
  {
   "cell_type": "code",
   "execution_count": 39,
   "metadata": {},
   "outputs": [
    {
     "name": "stdout",
     "output_type": "stream",
     "text": [
      "     id   age city    f1  f2   f3    f4         f5\n",
      "0  id01   2.0   서울   NaN   0  NaN  ENFJ  91.297791\n",
      "1  id02   9.0   서울  70.0   1  NaN  ENFJ  60.339826\n",
      "2  id03  27.0   서울  61.0   1  NaN  ISTJ  17.252986\n",
      "38.44\n"
     ]
    }
   ],
   "source": [
    "# 풀이 수정\n",
    "\n",
    "import pandas as pd\n",
    "import numpy as np\n",
    "\n",
    "df = pd.read_csv('./data/basic1.csv')\n",
    "print(df.head(3))\n",
    "# print(df.info())\n",
    "# print(df.isnull().sum())\n",
    "# print(df.shape)\n",
    "\n",
    "df = df[df['f2']==0].sort_values('age', ascending=True)\n",
    "# print(df)\n",
    "\n",
    "df = df.head(20)\n",
    "# print(df)\n",
    "\n",
    "var1 = df['f1'].var()\n",
    "\n",
    "df['f1'] = df['f1'].fillna(df['f1'].min())\n",
    "var2 = df['f1'].var()\n",
    "\n",
    "answer = var1 - var2\n",
    "answer = round(answer, 2)\n",
    "print(answer)"
   ]
  },
  {
   "cell_type": "markdown",
   "metadata": {},
   "source": [
    "## -------------------------------"
   ]
  },
  {
   "cell_type": "code",
   "execution_count": 58,
   "metadata": {},
   "outputs": [
    {
     "name": "stdout",
     "output_type": "stream",
     "text": [
      "         Date     Sales      PV      UV  Events\n",
      "0  2022-01-01  22711525  397349  4421.0       1\n",
      "1  2022-01-02     36779    3969  2289.0       0\n",
      "2  2022-01-03  13943875  373890     NaN       1\n",
      "1477685.0\n"
     ]
    }
   ],
   "source": [
    "# T1-17. Time-Series1 / #시계열데이터 #datetime\n",
    "# 2022년 5월 sales의 중앙값을 구하시오\n",
    "# 풀이\n",
    "\n",
    "import pandas as pd\n",
    "import numpy as np\n",
    "\n",
    "df = pd.read_csv('./data/basic2.csv')\n",
    "print(df.head(3))\n",
    "# print(df.info())\n",
    "# print(df.isnull().sum())\n",
    "# print(df.shape)\n",
    "\n",
    "# df['yyyy'] = df['Date'][:4]\n",
    "# print(df)\n",
    "\n",
    "ls = []\n",
    "for date in df['Date']:\n",
    "    ls.append(int(date[:4]))\n",
    "df['yyyy'] = ls\n",
    "# print(df)\n",
    "\n",
    "ls = []\n",
    "for date in df['Date']:\n",
    "    ls.append(int(date[5:7]))\n",
    "df['MM'] = ls\n",
    "# print(df)\n",
    "\n",
    "df = df[(df['yyyy']==2022) & (df['MM']==5)]\n",
    "\n",
    "answer = df['Sales'].median()\n",
    "print(answer)"
   ]
  },
  {
   "cell_type": "code",
   "execution_count": 61,
   "metadata": {},
   "outputs": [
    {
     "name": "stdout",
     "output_type": "stream",
     "text": [
      "        Date     Sales      PV      UV  Events  year  month  day\n",
      "0 2022-01-01  22711525  397349  4421.0       1  2022      1    1\n",
      "1 2022-01-02     36779    3969  2289.0       0  2022      1    2\n",
      "2 2022-01-03  13943875  373890     NaN       1  2022      1    3\n",
      "3 2022-01-04   8088593  142054  2157.0       0  2022      1    4\n",
      "4 2022-01-05   2395374  190684     NaN       0  2022      1    5\n",
      "<class 'pandas.core.frame.DataFrame'>\n",
      "RangeIndex: 730 entries, 0 to 729\n",
      "Data columns (total 8 columns):\n",
      " #   Column  Non-Null Count  Dtype         \n",
      "---  ------  --------------  -----         \n",
      " 0   Date    730 non-null    datetime64[ns]\n",
      " 1   Sales   730 non-null    int64         \n",
      " 2   PV      730 non-null    int64         \n",
      " 3   UV      684 non-null    float64       \n",
      " 4   Events  730 non-null    int64         \n",
      " 5   year    730 non-null    int64         \n",
      " 6   month   730 non-null    int64         \n",
      " 7   day     730 non-null    int64         \n",
      "dtypes: datetime64[ns](1), float64(1), int64(6)\n",
      "memory usage: 45.8 KB\n",
      "None\n",
      "1477685.0\n"
     ]
    }
   ],
   "source": [
    "# 해답\n",
    "\n",
    "import pandas as pd\n",
    "\n",
    "df = pd.read_csv('./data/basic2.csv')\n",
    "\n",
    "df['Date'] = pd.to_datetime(df['Date'])\n",
    "# print(df.info())\n",
    "\n",
    "df['year'] = df['Date'].dt.year\n",
    "df['month'] = df['Date'].dt.month\n",
    "df['day'] = df['Date'].dt.day\n",
    "print(df.head())\n",
    "print(df.info())\n",
    "\n",
    "cond = (df['year']==2022) & (df['month']==5)\n",
    "answer = df[cond]['Sales'].median()\n",
    "print(answer)"
   ]
  },
  {
   "cell_type": "markdown",
   "metadata": {},
   "source": [
    "## ---------------------------"
   ]
  },
  {
   "cell_type": "code",
   "execution_count": 74,
   "metadata": {},
   "outputs": [
    {
     "name": "stdout",
     "output_type": "stream",
     "text": [
      "3010339.1\n"
     ]
    }
   ],
   "source": [
    "# T1-18. Time-Series2 / #주말 #평일 #비교 #시계열데이터\n",
    "# 주어진 데이터에서 2022년 5월 주말과 평일의 sales컬럼 평균값 차이를 구하시오 \n",
    "# (소수점 둘째자리까지 출력, 반올림)\n",
    "# 풀이\n",
    "\n",
    "import pandas as pd\n",
    "import numpy as np\n",
    "\n",
    "df = pd.read_csv('./data/basic2.csv')\n",
    "# print(df.head(3))\n",
    "# print(df.info())\n",
    "# print(df.isnull().sum())\n",
    "# print(df.shape)\n",
    "\n",
    "df['Date'] = pd.to_datetime(df['Date'])\n",
    "# print(df.info())\n",
    "\n",
    "df['yyyy'] = df['Date'].dt.year\n",
    "df['MM'] = df['Date'].dt.month\n",
    "df['dd'] = df['Date'].dt.day\n",
    "df['day_of_week'] = df['Date'].dt.day_of_week\n",
    "# print(df.head(3))\n",
    "# print(df.info())\n",
    "# print(dir(df['Date'].dt))\n",
    "\n",
    "cond = (df['yyyy']==2022) & (df['MM']==5)\n",
    "cond_weekend = (df['day_of_week']==5) | (df['day_of_week']==6)\n",
    "cond_week = (df['day_of_week']!=5) & (df['day_of_week']!=6)\n",
    "\n",
    "mean1 = df[cond & cond_weekend]['Sales'].mean()\n",
    "mean2 = df[cond & cond_week]['Sales'].mean()\n",
    "\n",
    "answer = round(mean1 - mean2, 2)\n",
    "print(answer)"
   ]
  },
  {
   "cell_type": "code",
   "execution_count": 80,
   "metadata": {},
   "outputs": [
    {
     "name": "stdout",
     "output_type": "stream",
     "text": [
      "3010339.1\n"
     ]
    }
   ],
   "source": [
    "# 해답\n",
    "\n",
    "import pandas as pd\n",
    "\n",
    "df = pd.read_csv('./data/basic2.csv')\n",
    "\n",
    "df['Date'] = pd.to_datetime(df['Date'])\n",
    "# print(df.info())\n",
    "\n",
    "df['year'] = df['Date'].dt.year\n",
    "df['month'] = df['Date'].dt.month\n",
    "df['day'] = df['Date'].dt.day\n",
    "df['dayofweek'] = df['Date'].dt.dayofweek\n",
    "# print(df.head(3))\n",
    "\n",
    "df['dayofweek'] = df['dayofweek'].apply(lambda x: x>=5, 1, 0)\n",
    "# print(df.head(3))\n",
    "\n",
    "weekend_cond = (df['year']==2022) & (df['month']==5) & (df['dayofweek'])\n",
    "weekday_cond = (df['year']==2022) & (df['month']==5) & (~df['dayofweek'])\n",
    "\n",
    "weekend = df[weekend_cond]['Sales'].mean()\n",
    "weekday = df[weekday_cond]['Sales'].mean()\n",
    "\n",
    "asnwer = round(weekend-weekday, 2)\n",
    "print(answer)"
   ]
  },
  {
   "cell_type": "code",
   "execution_count": null,
   "metadata": {},
   "outputs": [],
   "source": []
  }
 ],
 "metadata": {
  "kernelspec": {
   "display_name": "Python 3.10.4 ('han')",
   "language": "python",
   "name": "python3"
  },
  "language_info": {
   "codemirror_mode": {
    "name": "ipython",
    "version": 3
   },
   "file_extension": ".py",
   "mimetype": "text/x-python",
   "name": "python",
   "nbconvert_exporter": "python",
   "pygments_lexer": "ipython3",
   "version": "3.10.4"
  },
  "orig_nbformat": 4,
  "vscode": {
   "interpreter": {
    "hash": "9ffd841040af6bedd50cabf1584399d13f777232c008d7c4ad470663779a547a"
   }
  }
 },
 "nbformat": 4,
 "nbformat_minor": 2
}
