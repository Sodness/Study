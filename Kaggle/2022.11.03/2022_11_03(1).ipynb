{
 "cells": [
  {
   "cell_type": "code",
   "execution_count": 16,
   "metadata": {},
   "outputs": [
    {
     "name": "stdout",
     "output_type": "stream",
     "text": [
      "49141908\n"
     ]
    }
   ],
   "source": [
    "# T1-19. Time-Series3 (monthly total) / #월별 #총계 #비교 #데이터값변경\n",
    "# 주어진 데이터에서 2022년 월별 Sales 합계 중 가장 큰 금액과\n",
    "# 2023년 월별 Sales 합계 중 가장 큰 금액의 차이를 절대값으로 구하시오.\n",
    "# 단 Events컬럼이 '1'인경우 80%의 Salse값만 반영함\n",
    "# (최종값은 소수점 반올림 후 정수 출력)\n",
    "# 풀이\n",
    "\n",
    "import pandas as pd\n",
    "import numpy as np\n",
    "\n",
    "df = pd.read_csv('./data/basic2.csv')\n",
    "# print(df.head(3))\n",
    "# print(df.info())\n",
    "# print(df.isnull().sum())\n",
    "# print(df.shape)\n",
    "\n",
    "df['Sales'] = df['Sales'][df['Events'] == 1] * 0.8\n",
    "# print(df.head(3))\n",
    "\n",
    "df['Date'] = pd.to_datetime(df['Date'])\n",
    "# print(df.info())\n",
    "\n",
    "df['yyyy'] = df['Date'].dt.year\n",
    "df['MM'] = df['Date'].dt.month\n",
    "# print(df.head(3))\n",
    "\n",
    "df_2022 = df[df['yyyy'] == 2022]\n",
    "df_2023 = df[df['yyyy'] == 2023]\n",
    "# print(df_2022)\n",
    "\n",
    "sales_2022 = df_2022.groupby('MM').sum()['Sales'].max()\n",
    "sales_2023 = df_2023.groupby('MM').sum()['Sales'].max()\n",
    "\n",
    "answer = int(round(abs(sales_2022 - sales_2023), 0))\n",
    "print(answer)"
   ]
  },
  {
   "cell_type": "code",
   "execution_count": 15,
   "metadata": {},
   "outputs": [
    {
     "name": "stdout",
     "output_type": "stream",
     "text": [
      "42473436\n"
     ]
    }
   ],
   "source": [
    "# 출력\n",
    "\n",
    "import pandas as pd\n",
    "\n",
    "df = pd.read_csv('./data/basic2.csv')\n",
    "\n",
    "df['Date'] = pd.to_datetime(df['Date'])\n",
    "\n",
    "df['year'] = df['Date'].dt.year\n",
    "df['month'] = df['Date'].dt.month\n",
    "df['day'] = df['Date'].dt.day\n",
    "df['dayofweek'] = df['Date'].dt.dayofweek\n",
    "\n",
    "def event_sales(x):\n",
    "    if x['Events'] == 1:\n",
    "        x['Sales2'] = x['Sales']*0.8\n",
    "    else:\n",
    "        x['Sales2'] = x['Sales']\n",
    "    return x\n",
    "\n",
    "df = df.apply(lambda x: event_sales(x), axis=1)\n",
    "# print(df.head())\n",
    "\n",
    "cond = df['year'] == 2022\n",
    "df1 = df[cond]\n",
    "sale1 = df1.groupby('month')['Sales2'].sum().max()\n",
    "\n",
    "cond = df['year'] == 2023\n",
    "df2 = df[cond]\n",
    "sale2 = df2.groupby('month')['Sales2'].sum().max()\n",
    "\n",
    "answer = int(round(abs(sale1 - sale2), 0))\n",
    "print(answer)"
   ]
  },
  {
   "cell_type": "code",
   "execution_count": 36,
   "metadata": {},
   "outputs": [
    {
     "name": "stdout",
     "output_type": "stream",
     "text": [
      "         Date     Sales      PV      UV  Events\n",
      "0  2022-01-01  22711525  397349  4421.0       1\n",
      "1  2022-01-02     36779    3969  2289.0       0\n",
      "2  2022-01-03  13943875  373890     NaN       1\n",
      "3  2022-01-04   8088593  142054  2157.0       0\n",
      "4  2022-01-05   2395374  190684     NaN       0\n",
      "5  2022-01-06   1709350  177815  5340.0       1\n",
      "6  2022-01-07   5306457  155749  3789.0       0\n",
      "7  2022-01-08   1052325   53467  1793.0       0\n",
      "8  2022-01-09    877848   54805  2110.0       0\n",
      "9  2022-01-10   9112911   94024  2471.0       0\n",
      "42473436\n"
     ]
    }
   ],
   "source": [
    "import pandas as pd\n",
    "import numpy as np\n",
    "\n",
    "df = pd.read_csv('./data/basic2.csv')\n",
    "print(df.head(10))\n",
    "# print(df.info())\n",
    "# print(df.isnull().sum())\n",
    "# print(df.shape)\n",
    "\n",
    "# ls = []\n",
    "# for e,s in zip(df['Events'], df['Sales']):\n",
    "#     if e == 1:\n",
    "#         ls.append(s*0.8)\n",
    "#     else:\n",
    "#         ls.append(s)\n",
    "# # print(ls)\n",
    "# df['Sales08'] = ls\n",
    "# print(df.head(10))\n",
    "\n",
    "df['Sales08'] = [s*0.8 if e==1 else s for e,s in zip(df['Events'], df['Sales'])]\n",
    "# print(df.head(10))\n",
    "\n",
    "df['Date'] = pd.to_datetime(df['Date'])\n",
    "# print(df.info())\n",
    "\n",
    "df['yyyy'] = df['Date'].dt.year\n",
    "df['MM'] = df['Date'].dt.month\n",
    "# print(df.head(3))\n",
    "\n",
    "df_2022 = df[df['yyyy'] == 2022]\n",
    "df_2023 = df[df['yyyy'] == 2023]\n",
    "# print(df_2022)\n",
    "\n",
    "sales_2022 = df_2022.groupby('MM').sum()['Sales08'].max()\n",
    "sales_2023 = df_2023.groupby('MM').sum()['Sales08'].max()\n",
    "\n",
    "answer = int(round(abs(sales_2022 - sales_2023), 0))\n",
    "print(answer)"
   ]
  },
  {
   "cell_type": "code",
   "execution_count": null,
   "metadata": {},
   "outputs": [],
   "source": []
  }
 ],
 "metadata": {
  "kernelspec": {
   "display_name": "Python 3.9.12 ('base')",
   "language": "python",
   "name": "python3"
  },
  "language_info": {
   "codemirror_mode": {
    "name": "ipython",
    "version": 3
   },
   "file_extension": ".py",
   "mimetype": "text/x-python",
   "name": "python",
   "nbconvert_exporter": "python",
   "pygments_lexer": "ipython3",
   "version": "3.9.12"
  },
  "orig_nbformat": 4,
  "vscode": {
   "interpreter": {
    "hash": "ad2bdc8ecc057115af97d19610ffacc2b4e99fae6737bb82f5d7fb13d2f2c186"
   }
  }
 },
 "nbformat": 4,
 "nbformat_minor": 2
}
