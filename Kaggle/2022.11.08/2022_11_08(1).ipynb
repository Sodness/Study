{
 "cells": [
  {
   "cell_type": "code",
   "execution_count": 1,
   "metadata": {},
   "outputs": [
    {
     "name": "stdout",
     "output_type": "stream",
     "text": [
      "         Date     Sales      PV      UV  Events\n",
      "0  2022-01-01  22711525  397349  4421.0       1\n",
      "1  2022-01-02     36779    3969  2289.0       0\n",
      "2  2022-01-03  13943875  373890     NaN       1\n",
      "Date       0\n",
      "Sales      0\n",
      "PV         0\n",
      "UV        46\n",
      "Events     0\n",
      "dtype: int64\n",
      "(730, 5)\n"
     ]
    }
   ],
   "source": [
    "# T1-24. Time-Series5 (Lagged Feature) / #시차데이터 #조건\n",
    "# 주어진 데이터(basic2.csv)에서 새로운 컬럼(1일 이전 시차 컬럼)을 만들고, \n",
    "# Events가 1이면서 Sales가 1000000이하인 조건에 맞는 새로운 컬럼 합을 구하시오\n",
    "# 풀이\n",
    "\n",
    "import pandas as pd\n",
    "\n",
    "df = pd.read_csv('./data/basic2.csv')\n",
    "print(df.head(3))\n",
    "# print(df.info())\n",
    "print(df.isnull().sum())\n",
    "print(df.shape)\n",
    "\n",
    "# 1일 이전 시차 컬럼?\n",
    "\n",
    "# Events가 1이면서 Sales가 1000000이하인 조건에 맞는 컬럼 합\n",
    "answer =df[(df['Events']==1) & (df['Sales']<=1000000)]['PV'].sum()\n",
    "\n",
    "print(answer)"
   ]
  },
  {
   "cell_type": "code",
   "execution_count": 4,
   "metadata": {},
   "outputs": [
    {
     "name": "stdout",
     "output_type": "stream",
     "text": [
      "         Date     Sales      PV      UV  Events  previous_PV\n",
      "0  2022-01-01  22711525  397349  4421.0       1          NaN\n",
      "1  2022-01-02     36779    3969  2289.0       0     397349.0\n",
      "2  2022-01-03  13943875  373890     NaN       1       3969.0\n",
      "3  2022-01-04   8088593  142054  2157.0       0     373890.0\n",
      "4  2022-01-05   2395374  190684     NaN       0     142054.0\n",
      "         Date     Sales      PV      UV  Events  previous_PV\n",
      "0  2022-01-01  22711525  397349  4421.0       1     397349.0\n",
      "1  2022-01-02     36779    3969  2289.0       0     397349.0\n",
      "2  2022-01-03  13943875  373890     NaN       1       3969.0\n",
      "3  2022-01-04   8088593  142054  2157.0       0     373890.0\n",
      "4  2022-01-05   2395374  190684     NaN       0     142054.0\n",
      "1894876.0\n"
     ]
    }
   ],
   "source": [
    "# 해답\n",
    "\n",
    "import pandas as pd\n",
    "\n",
    "df = pd.read_csv('./data/basic2.csv')\n",
    "\n",
    "df['previous_PV'] = df['PV'].shift(1)\n",
    "print(df.head())\n",
    "\n",
    "df['previous_PV'] = df['previous_PV'].fillna(method='bfill')\n",
    "print(df.head())\n",
    "\n",
    "cond = (df['Events']==1) & (df['Sales']<=1000000)\n",
    "answer = df[cond]['previous_PV'].sum()\n",
    "print(answer)"
   ]
  },
  {
   "cell_type": "code",
   "execution_count": 8,
   "metadata": {},
   "outputs": [
    {
     "name": "stdout",
     "output_type": "stream",
     "text": [
      "         Date     Sales      PV      UV  Events  previous_PV\n",
      "0  2022-01-01  22711525  397349  4421.0       1          NaN\n",
      "1  2022-01-02     36779    3969  2289.0       0     397349.0\n",
      "2  2022-01-03  13943875  373890     NaN       1       3969.0\n",
      "3  2022-01-04   8088593  142054  2157.0       0     373890.0\n",
      "4  2022-01-05   2395374  190684     NaN       0     142054.0\n",
      "         Date     Sales      PV      UV  Events  previous_PV\n",
      "0  2022-01-01  22711525  397349  4421.0       1     397349.0\n",
      "1  2022-01-02     36779    3969  2289.0       0     397349.0\n",
      "2  2022-01-03  13943875  373890     NaN       1       3969.0\n",
      "3  2022-01-04   8088593  142054  2157.0       0     373890.0\n",
      "4  2022-01-05   2395374  190684     NaN       0     142054.0\n",
      "1894876.0\n"
     ]
    }
   ],
   "source": [
    "# 풀이 수정\n",
    "\n",
    "import pandas as pd\n",
    "\n",
    "df = pd.read_csv('./data/basic2.csv')\n",
    "# print(df.head(3))\n",
    "# print(df.info())\n",
    "# print(df.isnull().sum())\n",
    "# print(df.shape)\n",
    "\n",
    "# 1일 이전 시차 컬럼?\n",
    "df['previous_PV'] = df['PV'].shift(1)\n",
    "print(df.head())\n",
    "df['previous_PV'] = df['previous_PV'].fillna(method='bfill')\n",
    "print(df.head())\n",
    "\n",
    "\n",
    "# Events가 1이면서 Sales가 1000000이하인 조건에 맞는 컬럼 합\n",
    "answer =df[(df['Events']==1) & (df['Sales']<=1000000)]['previous_PV'].sum()\n",
    "\n",
    "print(answer)"
   ]
  },
  {
   "cell_type": "markdown",
   "metadata": {},
   "source": [
    "## -------------------------------------"
   ]
  },
  {
   "cell_type": "code",
   "execution_count": 14,
   "metadata": {},
   "outputs": [
    {
     "name": "stdout",
     "output_type": "stream",
     "text": [
      "     id   age city    f1  f2   f3    f4         f5\n",
      "0  id01   2.0   서울   NaN   0  NaN  ENFJ  91.297791\n",
      "1  id02   9.0   서울  70.0   1  NaN  ENFJ  60.339826\n",
      "2  id03  27.0   서울  61.0   1  NaN  ISTJ  17.252986\n",
      "42.0\n"
     ]
    },
    {
     "name": "stderr",
     "output_type": "stream",
     "text": [
      "C:\\Users\\user\\AppData\\Local\\Temp\\ipykernel_13540\\3529835832.py:21: SettingWithCopyWarning: \n",
      "A value is trying to be set on a copy of a slice from a DataFrame.\n",
      "Try using .loc[row_indexer,col_indexer] = value instead\n",
      "\n",
      "See the caveats in the documentation: https://pandas.pydata.org/pandas-docs/stable/user_guide/indexing.html#returning-a-view-versus-a-copy\n",
      "  df_a['f1'] = df_a['f1'].fillna(df_a['f1'].median())\n",
      "C:\\Users\\user\\AppData\\Local\\Temp\\ipykernel_13540\\3529835832.py:22: SettingWithCopyWarning: \n",
      "A value is trying to be set on a copy of a slice from a DataFrame.\n",
      "Try using .loc[row_indexer,col_indexer] = value instead\n",
      "\n",
      "See the caveats in the documentation: https://pandas.pydata.org/pandas-docs/stable/user_guide/indexing.html#returning-a-view-versus-a-copy\n",
      "  df_b['f1'] = df_b['f1'].fillna(df_b['f1'].max())\n"
     ]
    }
   ],
   "source": [
    "# [MOCK EXAM1] TYPE1 / 작업형1 모의고사\n",
    "# 1. 첫번째 데이터 부터 순서대로 50:50으로 데이터를 나누고, \n",
    "# 앞에서 부터 50%의 데이터(이하, A그룹)는 'f1'컬럼을 A그룹의 중앙값으로 채우고, \n",
    "# 뒤에서부터 50% 데이터(이하, B그룹)는 'f1'컬럼을 B그룹의 최대값으로 채운 후, \n",
    "# A그룹과 B그룹의 표준편차 합을 구하시오\n",
    "# 단, 소수점 첫째자리까지 구하시오 (둘째자리에서 반올림)\n",
    "# 풀이\n",
    "\n",
    "import pandas as pd\n",
    "\n",
    "df = pd.read_csv('./data/basic1.csv')\n",
    "print(df.head(3))\n",
    "# print(df.info())\n",
    "# print(df.isnull().sum()) # f1, f3\n",
    "# print(df.shape) # (100, 8)\n",
    "\n",
    "df_a = df[:int(len(df)/2)]\n",
    "df_b = df[int(len(df)/2):]\n",
    "# print(df_a.head())\n",
    "# print(len(df_a))\n",
    "\n",
    "df_a['f1'] = df_a['f1'].fillna(df_a['f1'].median())\n",
    "df_b['f1'] = df_b['f1'].fillna(df_b['f1'].max())\n",
    "# print(df_a['f1'].isnull().sum())\n",
    "# print(df_b['f1'].isnull().sum())\n",
    "\n",
    "std_a = df_a['f1'].std()\n",
    "std_b = df_b['f1'].std()\n",
    "\n",
    "answer = round(std_a + std_b, 1)\n",
    "print(answer)"
   ]
  },
  {
   "cell_type": "code",
   "execution_count": 15,
   "metadata": {},
   "outputs": [
    {
     "name": "stdout",
     "output_type": "stream",
     "text": [
      "(100, 8)\n",
      "(50, 8) (50, 8)\n",
      "42.0\n"
     ]
    },
    {
     "name": "stderr",
     "output_type": "stream",
     "text": [
      "C:\\Users\\user\\AppData\\Local\\Temp\\ipykernel_13540\\809355893.py:10: SettingWithCopyWarning: \n",
      "A value is trying to be set on a copy of a slice from a DataFrame.\n",
      "Try using .loc[row_indexer,col_indexer] = value instead\n",
      "\n",
      "See the caveats in the documentation: https://pandas.pydata.org/pandas-docs/stable/user_guide/indexing.html#returning-a-view-versus-a-copy\n",
      "  dfA.loc[:, 'f1'] = dfA['f1'].fillna(dfA['f1'].median())\n",
      "C:\\Users\\user\\AppData\\Local\\Temp\\ipykernel_13540\\809355893.py:11: SettingWithCopyWarning: \n",
      "A value is trying to be set on a copy of a slice from a DataFrame.\n",
      "Try using .loc[row_indexer,col_indexer] = value instead\n",
      "\n",
      "See the caveats in the documentation: https://pandas.pydata.org/pandas-docs/stable/user_guide/indexing.html#returning-a-view-versus-a-copy\n",
      "  dfB.loc[:, 'f1'] = dfB['f1'].fillna(dfB['f1'].max())\n"
     ]
    }
   ],
   "source": [
    "# 해답\n",
    "\n",
    "df = pd.read_csv('./data/basic1.csv')\n",
    "print(df.shape)\n",
    "\n",
    "dfA = df[:50]\n",
    "dfB = df[50:]\n",
    "print(dfA.shape, dfB.shape)\n",
    "\n",
    "dfA.loc[:, 'f1'] = dfA['f1'].fillna(dfA['f1'].median())\n",
    "dfB.loc[:, 'f1'] = dfB['f1'].fillna(dfB['f1'].max())\n",
    "\n",
    "stdA = dfA['f1'].std()\n",
    "stdB = dfB['f1'].std()\n",
    "\n",
    "answer = round(stdA + stdB, 1)\n",
    "print(answer)"
   ]
  },
  {
   "cell_type": "markdown",
   "metadata": {},
   "source": [
    "## ----------------------------------"
   ]
  },
  {
   "cell_type": "code",
   "execution_count": 17,
   "metadata": {},
   "outputs": [
    {
     "name": "stdout",
     "output_type": "stream",
     "text": [
      "     id   age city    f1  f2   f3    f4         f5\n",
      "0  id01   2.0   서울   NaN   0  NaN  ENFJ  91.297791\n",
      "1  id02   9.0   서울  70.0   1  NaN  ENFJ  60.339826\n",
      "2  id03  27.0   서울  61.0   1  NaN  ISTJ  17.252986\n",
      "      id   age city    f1  f2   f3    f4        f5\n",
      "14  id15  22.0   서울  67.0   1  NaN  ENTP  9.796378\n",
      "6   id07  36.3   서울  60.0   1  NaN  ISFJ  9.796378\n",
      "90  id91   6.0   경기  72.0   0  NaN  INTP  9.796378\n",
      "54  id55  75.0   대구  63.0   2  NaN  ENTP  9.796378\n",
      "35  id36  68.0   부산  77.0   1  NaN  INTP  9.796378\n",
      "56.4\n"
     ]
    },
    {
     "name": "stderr",
     "output_type": "stream",
     "text": [
      "C:\\Users\\user\\AppData\\Local\\Temp\\ipykernel_13540\\1977058699.py:21: SettingWithCopyWarning: \n",
      "A value is trying to be set on a copy of a slice from a DataFrame\n",
      "\n",
      "See the caveats in the documentation: https://pandas.pydata.org/pandas-docs/stable/user_guide/indexing.html#returning-a-view-versus-a-copy\n",
      "  df['f5'].iloc[:10] = f5_min\n"
     ]
    }
   ],
   "source": [
    "# [MOCK EXAM1] TYPE1 / 작업형1 모의고사\n",
    "# 2. 'f4'컬럼을 기준 내림차순 정렬과 \n",
    "# 'f5'컬럼기준 오름차순 정렬을 순서대로 다중 조건 정렬하고나서 \n",
    "# 앞에서부터 10개의 데이터 중 'f5'컬럼의 최소값 찾고, \n",
    "# 이 최소값으로 앞에서 부터 10개의 'f5'컬럼 데이터를 변경함. \n",
    "# 그리고 'f5'컬럼의 평균값을 계산함\n",
    "# 단 소수점 둘째자리까지 출력(셋째자리에서 반올림)\n",
    "# 풀이\n",
    "\n",
    "import pandas as pd\n",
    "\n",
    "df = pd.read_csv('./data/basic1.csv')\n",
    "print(df.head(3))\n",
    "# print(df.info())\n",
    "# print(df.isnull().sum()) # f1, f3\n",
    "# print(df.shape) # (100, 8)\n",
    "\n",
    "df = df.sort_values('f4', ascending=False)\n",
    "df = df.sort_values('f5', ascending=True)\n",
    "\n",
    "f5_min = df.iloc[:10, :]['f5'].min()\n",
    "df['f5'].iloc[:10] = f5_min\n",
    "print(df.head())\n",
    "\n",
    "answer = df['f5'].mean()\n",
    "answer = round(answer, 2)\n",
    "print(answer)"
   ]
  },
  {
   "cell_type": "code",
   "execution_count": 23,
   "metadata": {},
   "outputs": [
    {
     "name": "stdout",
     "output_type": "stream",
     "text": [
      "     id   age city    f1  f2   f3    f4         f5\n",
      "0  id43  23.0   대구  60.0   0  NaN  ISTP  29.269869\n",
      "1  id70  -9.0   경기  96.0   1  NaN  ISTP  48.431184\n",
      "2  id17  74.0   서울   NaN   1  NaN  ISTP  67.886373\n",
      "3  id23  34.0   부산  75.0   1  NaN  ISTP  69.730313\n",
      "4  id03  27.0   서울  61.0   1  NaN  ISTJ  17.252986\n",
      "53.63\n"
     ]
    }
   ],
   "source": [
    "# 해답\n",
    "\n",
    "import pandas as pd\n",
    "\n",
    "df = pd.read_csv('./data/basic1.csv')\n",
    "\n",
    "df = df.sort_values(['f4', 'f5'], ascending=[False, True])\n",
    "df = df.reset_index(drop=True)\n",
    "print(df.head())\n",
    "\n",
    "df.iloc[:10, 7] = df['f5'][:10].min()\n",
    "\n",
    "answer = round(df['f5'].mean(), 2)\n",
    "print(answer)"
   ]
  },
  {
   "cell_type": "code",
   "execution_count": 19,
   "metadata": {},
   "outputs": [
    {
     "name": "stdout",
     "output_type": "stream",
     "text": [
      "     id   age city    f1  f2   f3    f4         f5\n",
      "0  id01   2.0   서울   NaN   0  NaN  ENFJ  91.297791\n",
      "1  id02   9.0   서울  70.0   1  NaN  ENFJ  60.339826\n",
      "2  id03  27.0   서울  61.0   1  NaN  ISTJ  17.252986\n",
      "     id   age city    f1  f2   f3    f4         f5\n",
      "0  id15  22.0   서울  67.0   1  NaN  ENTP   9.796378\n",
      "1  id07  36.3   서울  60.0   1  NaN  ISFJ   9.796378\n",
      "2  id91   6.0   경기  72.0   0  NaN  INTP   9.796378\n",
      "3  id55  75.0   대구  63.0   2  NaN  ENTP  13.049921\n",
      "4  id36  68.0   부산  77.0   1  NaN  INTP  13.049921\n"
     ]
    }
   ],
   "source": [
    "# sort_values 2번 하는거랑 다중 조건으로 하는 거랑 다르네\n",
    "\n",
    "df = pd.read_csv('./data/basic1.csv')\n",
    "print(df.head(3))\n",
    "# print(df.info())\n",
    "# print(df.isnull().sum()) # f1, f3\n",
    "# print(df.shape) # (100, 8)\n",
    "\n",
    "df = df.sort_values('f4', ascending=False)\n",
    "df = df.sort_values('f5', ascending=True)\n",
    "df = df.reset_index(drop=True)\n",
    "print(df.head())"
   ]
  },
  {
   "cell_type": "code",
   "execution_count": 28,
   "metadata": {},
   "outputs": [
    {
     "name": "stdout",
     "output_type": "stream",
     "text": [
      "     id   age city    f1  f2   f3    f4         f5\n",
      "0  id01   2.0   서울   NaN   0  NaN  ENFJ  91.297791\n",
      "1  id02   9.0   서울  70.0   1  NaN  ENFJ  60.339826\n",
      "2  id03  27.0   서울  61.0   1  NaN  ISTJ  17.252986\n",
      "     id   age city    f1  f2   f3    f4         f5\n",
      "0  id43  23.0   대구  60.0   0  NaN  ISTP  29.269869\n",
      "1  id70  -9.0   경기  96.0   1  NaN  ISTP  48.431184\n",
      "2  id17  74.0   서울   NaN   1  NaN  ISTP  67.886373\n",
      "3  id23  34.0   부산  75.0   1  NaN  ISTP  69.730313\n",
      "4  id03  27.0   서울  61.0   1  NaN  ISTJ  17.252986\n",
      "     id   age city    f1  f2   f3    f4         f5\n",
      "0  id43  23.0   대구  60.0   0  NaN  ISTP  17.252986\n",
      "1  id70  -9.0   경기  96.0   1  NaN  ISTP  17.252986\n",
      "2  id17  74.0   서울   NaN   1  NaN  ISTP  17.252986\n",
      "3  id23  34.0   부산  75.0   1  NaN  ISTP  17.252986\n",
      "4  id03  27.0   서울  61.0   1  NaN  ISTJ  17.252986\n",
      "53.63\n"
     ]
    },
    {
     "name": "stderr",
     "output_type": "stream",
     "text": [
      "C:\\Users\\user\\AppData\\Local\\Temp\\ipykernel_13540\\2295362671.py:18: SettingWithCopyWarning: \n",
      "A value is trying to be set on a copy of a slice from a DataFrame\n",
      "\n",
      "See the caveats in the documentation: https://pandas.pydata.org/pandas-docs/stable/user_guide/indexing.html#returning-a-view-versus-a-copy\n",
      "  df['f5'][:10] = f5_min\n"
     ]
    }
   ],
   "source": [
    "# 풀이 수정\n",
    "\n",
    "import pandas as pd\n",
    "\n",
    "df = pd.read_csv('./data/basic1.csv')\n",
    "print(df.head(3))\n",
    "# print(df.info())\n",
    "# print(df.isnull().sum()) # f1, f3\n",
    "# print(df.shape) # (100, 8)\n",
    "\n",
    "# df = df.sort_values('f4', ascending=False)\n",
    "# df = df.sort_values('f5', ascending=True)\n",
    "df = df.sort_values(['f4','f5'], ascending=[False, True])\n",
    "df = df.reset_index(drop=True)\n",
    "print(df.head())\n",
    "\n",
    "f5_min = df[:10]['f5'].min()\n",
    "df['f5'][:10] = f5_min\n",
    "print(df.head())\n",
    "\n",
    "answer = df['f5'].mean()\n",
    "answer = round(answer, 2)\n",
    "print(answer)"
   ]
  },
  {
   "cell_type": "code",
   "execution_count": null,
   "metadata": {},
   "outputs": [],
   "source": []
  }
 ],
 "metadata": {
  "kernelspec": {
   "display_name": "Python 3.10.4 ('han')",
   "language": "python",
   "name": "python3"
  },
  "language_info": {
   "codemirror_mode": {
    "name": "ipython",
    "version": 3
   },
   "file_extension": ".py",
   "mimetype": "text/x-python",
   "name": "python",
   "nbconvert_exporter": "python",
   "pygments_lexer": "ipython3",
   "version": "3.10.4"
  },
  "orig_nbformat": 4,
  "vscode": {
   "interpreter": {
    "hash": "9ffd841040af6bedd50cabf1584399d13f777232c008d7c4ad470663779a547a"
   }
  }
 },
 "nbformat": 4,
 "nbformat_minor": 2
}
